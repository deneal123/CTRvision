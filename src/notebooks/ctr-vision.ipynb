{
 "cells": [
  {
   "cell_type": "code",
   "execution_count": 1,
   "id": "5cf9a712-1940-4848-8aed-f8fe5aa08bb2",
   "metadata": {},
   "outputs": [],
   "source": [
    "RED = \"\\033[31m\"\n",
    "GREEN = \"\\033[32m\"\n",
    "YELLOW = \"\\033[33m\"\n",
    "BLUE = \"\\033[34m\"\n",
    "RESET = \"\\033[0m\"  # сброс цветов до стандартных"
   ]
  },
  {
   "cell_type": "markdown",
   "id": "f36f467b-c154-47ef-aad1-6c3a9bd299a7",
   "metadata": {},
   "source": [
    "## Шаблоны markdown"
   ]
  },
  {
   "cell_type": "markdown",
   "id": "a3c1e0fc-0da3-4541-a029-31f98399b697",
   "metadata": {},
   "source": [
    "<span style=\"color: green;\"># Это комментарий в коде</span><br>\n",
    "<span style=\"color: blue;\">def</span> greet(name):<br>\n",
    "<span style=\"color: red;\">print</span>(f\"Hello, {name}!\")\n",
    "<hr style=\"border: 1px solid rgba(50, 50, 255, 0.5); width: 100%;\">\n",
    "<pre style=\"background-color: #F5F5F5; padding: 10px; border-radius: 5px; font-family: monospace;\">code</pre>"
   ]
  },
  {
   "cell_type": "markdown",
   "id": "effd36a8-7d86-4335-87cf-5199e44cb55a",
   "metadata": {},
   "source": [
    "## Настройки"
   ]
  },
  {
   "cell_type": "code",
   "execution_count": 1,
   "id": "2a15847f-9abc-4754-bdd2-3e7de0fbb345",
   "metadata": {},
   "outputs": [],
   "source": [
    "import warnings\n",
    "warnings.filterwarnings(\"ignore\")\n",
    "%load_ext autoreload\n",
    "%autoreload 1"
   ]
  },
  {
   "cell_type": "markdown",
   "id": "58405c30-605d-41c4-838d-a38674fc0936",
   "metadata": {},
   "source": [
    "## Импорт скриптов"
   ]
  },
  {
   "cell_type": "code",
   "execution_count": 2,
   "id": "770fe21d-e8b9-4a4e-a91f-f5d166b06b01",
   "metadata": {},
   "outputs": [],
   "source": [
    "from scripts.dataset_download import DatasetDownloader"
   ]
  },
  {
   "cell_type": "markdown",
   "id": "2553e284-938b-43d0-9ed3-eb392b77a9fc",
   "metadata": {},
   "source": [
    "## Конфигурация"
   ]
  },
  {
   "cell_type": "code",
   "execution_count": 3,
   "id": "2d62ffda-8adb-40ed-9224-835b1dc6a455",
   "metadata": {},
   "outputs": [
    {
     "name": "stdout",
     "output_type": "stream",
     "text": [
      "{'dataset_download': {'dataset_name': 'paramaggarwal/fashion-product-images-small', 'overwrite_existing': False, 'required_files': ['images', 'styles.csv']}}\n"
     ]
    }
   ],
   "source": [
    "from __init__ import path_to_config\n",
    "from utils.config_parser import ConfigParser\n",
    "config = ConfigParser().parse(path_to_config())\n",
    "print(config)"
   ]
  },
  {
   "cell_type": "markdown",
   "id": "52ee6239-ad42-42c1-988e-05299585b1b6",
   "metadata": {},
   "source": [
    "## Загрузка датасета"
   ]
  },
  {
   "cell_type": "code",
   "execution_count": 6,
   "id": "8f377c45-daf8-4bae-a15a-0a58d682fbef",
   "metadata": {},
   "outputs": [
    {
     "data": {
      "text/html": [
       "<pre style=\"white-space:pre;overflow-x:auto;line-height:normal;font-family:Menlo,'DejaVu Sans Mono',consolas,'Courier New',monospace\"><span style=\"color: #7fbfbf; text-decoration-color: #7fbfbf\">15:32:47-733410 </span><span style=\"color: #000080; text-decoration-color: #000080\">INFO    </span> Starting download of dataset: paramaggarwal/fashion-product-images-small                  \n",
       "</pre>\n"
      ],
      "text/plain": [
       "\u001b[2;36m15:32:47-733410\u001b[0m\u001b[2;36m \u001b[0m\u001b[34mINFO    \u001b[0m Starting download of dataset: paramaggarwal/fashion-product-images-small                  \n"
      ]
     },
     "metadata": {},
     "output_type": "display_data"
    },
    {
     "data": {
      "text/html": [
       "<pre style=\"white-space:pre;overflow-x:auto;line-height:normal;font-family:Menlo,'DejaVu Sans Mono',consolas,'Courier New',monospace\"><span style=\"color: #7fbfbf; text-decoration-color: #7fbfbf\">15:32:48-321260 </span><span style=\"color: #000080; text-decoration-color: #000080\">INFO    </span> Dataset downloaded to cache:                                                              \n",
       "<span style=\"color: #7fbfbf; text-decoration-color: #7fbfbf\">                </span>         <span style=\"color: #800080; text-decoration-color: #800080\">/home/student/.cache/kagglehub/datasets/paramaggarwal/fashion-product-images-small/version</span>\n",
       "<span style=\"color: #7fbfbf; text-decoration-color: #7fbfbf\">                </span>         <span style=\"color: #800080; text-decoration-color: #800080\">s/</span><span style=\"color: #ff00ff; text-decoration-color: #ff00ff\">1</span>                                                                                       \n",
       "</pre>\n"
      ],
      "text/plain": [
       "\u001b[2;36m15:32:48-321260\u001b[0m\u001b[2;36m \u001b[0m\u001b[34mINFO    \u001b[0m Dataset downloaded to cache:                                                              \n",
       "\u001b[2;36m                \u001b[0m         \u001b[35m/home/student/.cache/kagglehub/datasets/paramaggarwal/fashion-product-images-small/version\u001b[0m\n",
       "\u001b[2;36m                \u001b[0m         \u001b[35ms/\u001b[0m\u001b[95m1\u001b[0m                                                                                       \n"
      ]
     },
     "metadata": {},
     "output_type": "display_data"
    },
    {
     "data": {
      "text/html": [
       "<pre style=\"white-space:pre;overflow-x:auto;line-height:normal;font-family:Menlo,'DejaVu Sans Mono',consolas,'Courier New',monospace\"><span style=\"color: #7fbfbf; text-decoration-color: #7fbfbf\">15:32:48-328974 </span><span style=\"color: #008000; text-decoration-color: #008000\">DEBUG   </span> Cache contents: <span style=\"font-weight: bold\">[</span><span style=\"color: #008000; text-decoration-color: #008000\">'myntradataset'</span>, <span style=\"color: #008000; text-decoration-color: #008000\">'images'</span>, <span style=\"color: #008000; text-decoration-color: #008000\">'styles.csv'</span><span style=\"font-weight: bold\">]</span>                                 \n",
       "</pre>\n"
      ],
      "text/plain": [
       "\u001b[2;36m15:32:48-328974\u001b[0m\u001b[2;36m \u001b[0m\u001b[32mDEBUG   \u001b[0m Cache contents: \u001b[1m[\u001b[0m\u001b[32m'myntradataset'\u001b[0m, \u001b[32m'images'\u001b[0m, \u001b[32m'styles.csv'\u001b[0m\u001b[1m]\u001b[0m                                 \n"
      ]
     },
     "metadata": {},
     "output_type": "display_data"
    },
    {
     "data": {
      "text/html": [
       "<pre style=\"white-space:pre;overflow-x:auto;line-height:normal;font-family:Menlo,'DejaVu Sans Mono',consolas,'Courier New',monospace\"><span style=\"color: #7fbfbf; text-decoration-color: #7fbfbf\">15:32:48-332770 </span><span style=\"color: #000080; text-decoration-color: #000080\">INFO    </span> Dataset already exists and overwrite is disabled. Skipping.                               \n",
       "</pre>\n"
      ],
      "text/plain": [
       "\u001b[2;36m15:32:48-332770\u001b[0m\u001b[2;36m \u001b[0m\u001b[34mINFO    \u001b[0m Dataset already exists and overwrite is disabled. Skipping.                               \n"
      ]
     },
     "metadata": {},
     "output_type": "display_data"
    },
    {
     "name": "stdout",
     "output_type": "stream",
     "text": [
      "Dataset ready at: /home/student/projects/CTRvision/data/fashion-product-images-small\n"
     ]
    }
   ],
   "source": [
    "downloader = DatasetDownloader(config)\n",
    "path_to_dataset = downloader.download()\n",
    "print(f\"Dataset ready at: {result_path}\")"
   ]
  },
  {
   "cell_type": "markdown",
   "id": "12de2909-2173-4d1c-8524-5a8fde34838c",
   "metadata": {},
   "source": [
    "## Подготовка данных"
   ]
  },
  {
   "cell_type": "code",
   "execution_count": null,
   "id": "f2c24711-dfaf-4db0-a252-f7b13760ebfd",
   "metadata": {},
   "outputs": [],
   "source": []
  },
  {
   "cell_type": "markdown",
   "id": "6aaa860d-087f-4822-9b81-47458ed2a5ea",
   "metadata": {},
   "source": [
    "## Эксперимент 1 (Только фотографии)"
   ]
  },
  {
   "cell_type": "code",
   "execution_count": null,
   "id": "c2efb882-c388-403c-8cda-ae33c39f09b0",
   "metadata": {},
   "outputs": [],
   "source": []
  },
  {
   "cell_type": "code",
   "execution_count": null,
   "id": "fcba647a-715c-4543-b441-c0f514419f6a",
   "metadata": {},
   "outputs": [],
   "source": []
  },
  {
   "cell_type": "markdown",
   "id": "0f5b081b-6946-448e-a43b-35217e510a32",
   "metadata": {},
   "source": [
    "## Эксперимент 2 (Только табличные данные)"
   ]
  },
  {
   "cell_type": "code",
   "execution_count": null,
   "id": "600c1d17-6fa8-4912-a11a-7215236e0875",
   "metadata": {},
   "outputs": [],
   "source": []
  },
  {
   "cell_type": "code",
   "execution_count": null,
   "id": "4ed9d891-6fb2-467e-8cd9-9070a1f0688d",
   "metadata": {},
   "outputs": [],
   "source": []
  },
  {
   "cell_type": "markdown",
   "id": "87172a08-5cb8-40be-a1b1-432cf14e76e1",
   "metadata": {},
   "source": [
    "## Эксперимент 3 (И фотографии и табличные данные)"
   ]
  },
  {
   "cell_type": "code",
   "execution_count": null,
   "id": "e4f10917-880c-4b45-8c83-a019ab4ac973",
   "metadata": {},
   "outputs": [],
   "source": []
  },
  {
   "cell_type": "code",
   "execution_count": null,
   "id": "f59e60cc-8c6c-4656-8472-456fd77dbc47",
   "metadata": {},
   "outputs": [],
   "source": []
  }
 ],
 "metadata": {
  "kernelspec": {
   "display_name": "Python 3 (ipykernel)",
   "language": "python",
   "name": "python3"
  },
  "language_info": {
   "codemirror_mode": {
    "name": "ipython",
    "version": 3
   },
   "file_extension": ".py",
   "mimetype": "text/x-python",
   "name": "python",
   "nbconvert_exporter": "python",
   "pygments_lexer": "ipython3",
   "version": "3.10.6"
  }
 },
 "nbformat": 4,
 "nbformat_minor": 5
}
