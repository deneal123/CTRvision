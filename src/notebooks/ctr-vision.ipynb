{
 "cells": [
  {
   "cell_type": "markdown",
   "id": "title-cell",
   "metadata": {},
   "source": [
    "# CTRvision: Анализ эффективности продуктовых изображений\n",
    "\n",
    "## Эксперименты\n",
    "\n",
    "В этом блокноте проведено три типа экспериментов:\n",
    "\n",
    "1. **Эксперимент 1**: Модель только на основе изображений (DINOv2)\n",
    "2. **Эксперимент 2**: Модель только на основе табличных данных\n",
    "3. **Эксперимент 3**: Комбинированная мультимодальная модель\n",
    "\n",
    "---"
   ]
  },
  {
   "cell_type": "markdown",
   "id": "effd36a8-7d86-4335-87cf-5199e44cb55a",
   "metadata": {},
   "source": [
    "## Настройки и инициализация"
   ]
  },
  {
   "cell_type": "code",
   "execution_count": 1,
   "id": "2a15847f-9abc-4754-bdd2-3e7de0fbb345",
   "metadata": {},
   "outputs": [
    {
     "name": "stdout",
     "output_type": "stream",
     "text": [
      "\n",
      "\u001b[32m============================================================\u001b[0m\n",
      "\u001b[32m               CTRvision Notebook Initialized               \u001b[0m\n",
      "\u001b[32m============================================================\u001b[0m\n",
      "\n"
     ]
    }
   ],
   "source": [
    "import warnings\n",
    "import os\n",
    "import sys\n",
    "import yaml\n",
    "import torch\n",
    "import pandas as pd\n",
    "import numpy as np\n",
    "import matplotlib.pyplot as plt\n",
    "import seaborn as sns\n",
    "from pathlib import Path\n",
    "from IPython.display import display, HTML, Markdown\n",
    "\n",
    "warnings.filterwarnings(\"ignore\")\n",
    "plt.style.use('seaborn-v0_8')\n",
    "sns.set_palette(\"husl\")\n",
    "%load_ext autoreload\n",
    "%autoreload 2\n",
    "\n",
    "RED = \"\\033[31m\"\n",
    "GREEN = \"\\033[32m\"\n",
    "YELLOW = \"\\033[33m\"\n",
    "BLUE = \"\\033[34m\"\n",
    "MAGENTA = \"\\033[35m\"\n",
    "CYAN = \"\\033[36m\"\n",
    "RESET = \"\\033[0m\"\n",
    "\n",
    "def print_header(text, color=BLUE):\n",
    "    print(f\"\\n{color}{'='*60}{RESET}\")\n",
    "    print(f\"{color}{text:^60}{RESET}\")\n",
    "    print(f\"{color}{'='*60}{RESET}\\n\")\n",
    "\n",
    "def print_step(step_num, description, color=GREEN):\n",
    "    print(f\"{color} Шаг {step_num}: {description}{RESET}\")\n",
    "\n",
    "print_header(\"CTRvision Notebook Initialized\", GREEN)"
   ]
  },
  {
   "cell_type": "markdown",
   "id": "58405c30-605d-41c4-838d-a38674fc0936",
   "metadata": {},
   "source": [
    "## Импорт модулей и настройка путей\n",
    "\n",
    "Импортируем все необходимые модули для проведения экспериментов."
   ]
  },
  {
   "cell_type": "code",
   "execution_count": 2,
   "id": "770fe21d-e8b9-4a4e-a91f-f5d166b06b01",
   "metadata": {},
   "outputs": [
    {
     "name": "stdout",
     "output_type": "stream",
     "text": [
      "\u001b[32m Шаг 1: Все модули успешно импортированы\u001b[0m\n"
     ]
    }
   ],
   "source": [
    "from scripts.download import DatasetDownloader\n",
    "from scripts.train import train_model, create_data_loaders, initialize_model\n",
    "from scripts.plot import plot_results\n",
    "from scripts.dataset import CustomDataset, collate_fn\n",
    "from model.classification_head import ImageClassifier, TabularClassifier, CombinedClassifier\n",
    "from model.focal_loss import FocalLoss\n",
    "from utils.config_parser import ConfigParser\n",
    "from utils.custom_logging import get_logger\n",
    "from __init__ import path_to_config, path_to_project\n",
    "\n",
    "logger = get_logger(__name__)\n",
    "\n",
    "print_step(1, \"Все модули успешно импортированы\", GREEN)"
   ]
  },
  {
   "cell_type": "markdown",
   "id": "2553e284-938b-43d0-9ed3-eb392b77a9fc",
   "metadata": {},
   "source": [
    "## Загрузка и анализ конфигурации\n",
    "\n",
    "Загружаем базовую конфигурацию проекта и анализируем её параметры."
   ]
  },
  {
   "cell_type": "code",
   "execution_count": 3,
   "id": "2d62ffda-8adb-40ed-9224-835b1dc6a455",
   "metadata": {},
   "outputs": [
    {
     "name": "stdout",
     "output_type": "stream",
     "text": [
      "\u001b[34m Шаг 2: Анализ базовой конфигурации\u001b[0m\n",
      "\u001b[36m Конфигурация проекта:\u001b[0m\n",
      "  Датасет: paramaggarwal/fashion-product-images-small\n",
      "  Тип эксперимента: image\n",
      "  Количество эпох: 10\n",
      "  Модель изображений: facebook/dinov2-base\n",
      "  Learning rate: 0.001\n",
      "  Focal Loss gamma: 2.0\n",
      "\n",
      "\u001b[32mКонфигурация загружена и функции помощники созданы\u001b[0m\n"
     ]
    }
   ],
   "source": [
    "config_path = path_to_config()\n",
    "base_config = ConfigParser().parse(config_path)\n",
    "\n",
    "print_step(2, \"Анализ базовой конфигурации\", BLUE)\n",
    "\n",
    "print(f\"{CYAN} Конфигурация проекта:{RESET}\")\n",
    "print(f\"  Датасет: {base_config['dataset_download']['dataset_name']}\")\n",
    "print(f\"  Тип эксперимента: {base_config['train']['experiment_type']}\")\n",
    "print(f\"  Количество эпох: {base_config['train']['num_epochs']}\")\n",
    "print(f\"  Модель изображений: {base_config['model']['image_model_name']}\")\n",
    "print(f\"  Learning rate: {base_config['train']['learning_rate']}\")\n",
    "print(f\"  Focal Loss gamma: {base_config['train']['focal_loss_gamma']}\")\n",
    "\n",
    "\n",
    "def create_config_for_experiment(experiment_type, **kwargs):\n",
    "    config = base_config.copy()\n",
    "    config['train'] = config['train'].copy()\n",
    "    config['model'] = config['model'].copy()\n",
    "    \n",
    "    config['train']['experiment_type'] = experiment_type\n",
    "    \n",
    "    for key, value in kwargs.items():\n",
    "        if '.' in key:\n",
    "            section, param = key.split('.', 1)\n",
    "            if section not in config:\n",
    "                config[section] = {}\n",
    "            config[section][param] = value\n",
    "        else:\n",
    "            config['train'][key] = value\n",
    "    \n",
    "    return config\n",
    "\n",
    "def save_temp_config(config, filename=\"temp_config.yaml\"):\n",
    "    temp_path = f\"/tmp/{filename}\"\n",
    "    with open(temp_path, 'w') as f:\n",
    "        yaml.dump(config, f, default_flow_style=False)\n",
    "    return temp_path\n",
    "\n",
    "print(f\"\\n{GREEN}Конфигурация загружена и функции помощники созданы{RESET}\")"
   ]
  },
  {
   "cell_type": "markdown",
   "id": "52ee6239-ad42-42c1-988e-05299585b1b6",
   "metadata": {},
   "source": [
    "## Загрузка и подготовка датасета\n",
    "\n",
    "Загружаем датасет модных товаров и подготавливаем его для обучения."
   ]
  },
  {
   "cell_type": "code",
   "execution_count": 4,
   "id": "8f377c45-daf8-4bae-a15a-0a58d682fbef",
   "metadata": {},
   "outputs": [
    {
     "name": "stdout",
     "output_type": "stream",
     "text": [
      "\u001b[34m Шаг 3: Загрузка датасета\u001b[0m\n"
     ]
    },
    {
     "data": {
      "text/html": [
       "<pre style=\"white-space:pre;overflow-x:auto;line-height:normal;font-family:Menlo,'DejaVu Sans Mono',consolas,'Courier New',monospace\"><span style=\"color: #7fbfbf; text-decoration-color: #7fbfbf\">20:09:57-108311 </span><span style=\"color: #000080; text-decoration-color: #000080\">INFO    </span> Starting download of dataset: paramaggarwal/fashion-product-images-small                  \n",
       "</pre>\n"
      ],
      "text/plain": [
       "\u001b[2;36m20:09:57-108311\u001b[0m\u001b[2;36m \u001b[0m\u001b[34mINFO    \u001b[0m Starting download of dataset: paramaggarwal/fashion-product-images-small                  \n"
      ]
     },
     "metadata": {},
     "output_type": "display_data"
    },
    {
     "data": {
      "text/html": [
       "<pre style=\"white-space:pre;overflow-x:auto;line-height:normal;font-family:Menlo,'DejaVu Sans Mono',consolas,'Courier New',monospace\"><span style=\"color: #7fbfbf; text-decoration-color: #7fbfbf\">20:09:58-271911 </span><span style=\"color: #000080; text-decoration-color: #000080\">INFO    </span> Dataset downloaded to cache:                                                              \n",
       "<span style=\"color: #7fbfbf; text-decoration-color: #7fbfbf\">                </span>         <span style=\"color: #800080; text-decoration-color: #800080\">/home/student/.cache/kagglehub/datasets/paramaggarwal/fashion-product-images-small/version</span>\n",
       "<span style=\"color: #7fbfbf; text-decoration-color: #7fbfbf\">                </span>         <span style=\"color: #800080; text-decoration-color: #800080\">s/</span><span style=\"color: #ff00ff; text-decoration-color: #ff00ff\">1</span>                                                                                       \n",
       "</pre>\n"
      ],
      "text/plain": [
       "\u001b[2;36m20:09:58-271911\u001b[0m\u001b[2;36m \u001b[0m\u001b[34mINFO    \u001b[0m Dataset downloaded to cache:                                                              \n",
       "\u001b[2;36m                \u001b[0m         \u001b[35m/home/student/.cache/kagglehub/datasets/paramaggarwal/fashion-product-images-small/version\u001b[0m\n",
       "\u001b[2;36m                \u001b[0m         \u001b[35ms/\u001b[0m\u001b[95m1\u001b[0m                                                                                       \n"
      ]
     },
     "metadata": {},
     "output_type": "display_data"
    },
    {
     "data": {
      "text/html": [
       "<pre style=\"white-space:pre;overflow-x:auto;line-height:normal;font-family:Menlo,'DejaVu Sans Mono',consolas,'Courier New',monospace\"><span style=\"color: #7fbfbf; text-decoration-color: #7fbfbf\">20:09:58-282538 </span><span style=\"color: #008000; text-decoration-color: #008000\">DEBUG   </span> Cache contents: <span style=\"font-weight: bold\">[</span><span style=\"color: #008000; text-decoration-color: #008000\">'myntradataset'</span>, <span style=\"color: #008000; text-decoration-color: #008000\">'images'</span>, <span style=\"color: #008000; text-decoration-color: #008000\">'styles.csv'</span><span style=\"font-weight: bold\">]</span>                                 \n",
       "</pre>\n"
      ],
      "text/plain": [
       "\u001b[2;36m20:09:58-282538\u001b[0m\u001b[2;36m \u001b[0m\u001b[32mDEBUG   \u001b[0m Cache contents: \u001b[1m[\u001b[0m\u001b[32m'myntradataset'\u001b[0m, \u001b[32m'images'\u001b[0m, \u001b[32m'styles.csv'\u001b[0m\u001b[1m]\u001b[0m                                 \n"
      ]
     },
     "metadata": {},
     "output_type": "display_data"
    },
    {
     "data": {
      "text/html": [
       "<pre style=\"white-space:pre;overflow-x:auto;line-height:normal;font-family:Menlo,'DejaVu Sans Mono',consolas,'Courier New',monospace\"><span style=\"color: #7fbfbf; text-decoration-color: #7fbfbf\">20:09:58-287095 </span><span style=\"color: #000080; text-decoration-color: #000080\">INFO    </span> Dataset already exists and overwrite is disabled. Skipping.                               \n",
       "</pre>\n"
      ],
      "text/plain": [
       "\u001b[2;36m20:09:58-287095\u001b[0m\u001b[2;36m \u001b[0m\u001b[34mINFO    \u001b[0m Dataset already exists and overwrite is disabled. Skipping.                               \n"
      ]
     },
     "metadata": {},
     "output_type": "display_data"
    },
    {
     "name": "stdout",
     "output_type": "stream",
     "text": [
      "\n",
      "\u001b[32m Датасет готов: /home/student/projects/CTRvision/data/fashion-product-images-small\u001b[0m\n"
     ]
    }
   ],
   "source": [
    "print_step(3, \"Загрузка датасета\", BLUE)\n",
    "downloader = DatasetDownloader(base_config)\n",
    "dataset_path = downloader.download()\n",
    "print(f\"\\n{GREEN} Датасет готов: {dataset_path}{RESET}\")"
   ]
  },
  {
   "cell_type": "markdown",
   "id": "12de2909-2173-4d1c-8524-5a8fde34838c",
   "metadata": {},
   "source": [
    "## Исследование и анализ данных\n",
    "\n",
    "Проанализируем структуру датасета и подготовим данные для экспериментов."
   ]
  },
  {
   "cell_type": "code",
   "execution_count": 5,
   "id": "f2c24711-dfaf-4db0-a252-f7b13760ebfd",
   "metadata": {},
   "outputs": [
    {
     "name": "stdout",
     "output_type": "stream",
     "text": [
      "\u001b[34m Шаг 4: Анализ структуры данных\u001b[0m\n",
      "/home/student/projects/CTRvision/data/fashion-product-images-small/styles.csv\n",
      "\u001b[36m Информация о датасете:\u001b[0m\n",
      "  Размер датасета: 44424 образцов\n",
      "  Количество признаков: 10\n",
      "  Колонки: ['id', 'gender', 'masterCategory', 'subCategory', 'articleType', 'baseColour', 'season', 'year', 'usage', 'productDisplayName']\n",
      "\n",
      "\u001b[33m Первые 5 строк данных:\u001b[0m\n"
     ]
    },
    {
     "data": {
      "text/html": [
       "<div>\n",
       "<style scoped>\n",
       "    .dataframe tbody tr th:only-of-type {\n",
       "        vertical-align: middle;\n",
       "    }\n",
       "\n",
       "    .dataframe tbody tr th {\n",
       "        vertical-align: top;\n",
       "    }\n",
       "\n",
       "    .dataframe thead th {\n",
       "        text-align: right;\n",
       "    }\n",
       "</style>\n",
       "<table border=\"1\" class=\"dataframe\">\n",
       "  <thead>\n",
       "    <tr style=\"text-align: right;\">\n",
       "      <th></th>\n",
       "      <th>id</th>\n",
       "      <th>gender</th>\n",
       "      <th>masterCategory</th>\n",
       "      <th>subCategory</th>\n",
       "      <th>articleType</th>\n",
       "      <th>baseColour</th>\n",
       "      <th>season</th>\n",
       "      <th>year</th>\n",
       "      <th>usage</th>\n",
       "      <th>productDisplayName</th>\n",
       "    </tr>\n",
       "  </thead>\n",
       "  <tbody>\n",
       "    <tr>\n",
       "      <th>0</th>\n",
       "      <td>15970</td>\n",
       "      <td>Men</td>\n",
       "      <td>Apparel</td>\n",
       "      <td>Topwear</td>\n",
       "      <td>Shirts</td>\n",
       "      <td>Navy Blue</td>\n",
       "      <td>Fall</td>\n",
       "      <td>2011.0</td>\n",
       "      <td>Casual</td>\n",
       "      <td>Turtle Check Men Navy Blue Shirt</td>\n",
       "    </tr>\n",
       "    <tr>\n",
       "      <th>1</th>\n",
       "      <td>39386</td>\n",
       "      <td>Men</td>\n",
       "      <td>Apparel</td>\n",
       "      <td>Bottomwear</td>\n",
       "      <td>Jeans</td>\n",
       "      <td>Blue</td>\n",
       "      <td>Summer</td>\n",
       "      <td>2012.0</td>\n",
       "      <td>Casual</td>\n",
       "      <td>Peter England Men Party Blue Jeans</td>\n",
       "    </tr>\n",
       "    <tr>\n",
       "      <th>2</th>\n",
       "      <td>59263</td>\n",
       "      <td>Women</td>\n",
       "      <td>Accessories</td>\n",
       "      <td>Watches</td>\n",
       "      <td>Watches</td>\n",
       "      <td>Silver</td>\n",
       "      <td>Winter</td>\n",
       "      <td>2016.0</td>\n",
       "      <td>Casual</td>\n",
       "      <td>Titan Women Silver Watch</td>\n",
       "    </tr>\n",
       "    <tr>\n",
       "      <th>3</th>\n",
       "      <td>21379</td>\n",
       "      <td>Men</td>\n",
       "      <td>Apparel</td>\n",
       "      <td>Bottomwear</td>\n",
       "      <td>Track Pants</td>\n",
       "      <td>Black</td>\n",
       "      <td>Fall</td>\n",
       "      <td>2011.0</td>\n",
       "      <td>Casual</td>\n",
       "      <td>Manchester United Men Solid Black Track Pants</td>\n",
       "    </tr>\n",
       "    <tr>\n",
       "      <th>4</th>\n",
       "      <td>53759</td>\n",
       "      <td>Men</td>\n",
       "      <td>Apparel</td>\n",
       "      <td>Topwear</td>\n",
       "      <td>Tshirts</td>\n",
       "      <td>Grey</td>\n",
       "      <td>Summer</td>\n",
       "      <td>2012.0</td>\n",
       "      <td>Casual</td>\n",
       "      <td>Puma Men Grey T-shirt</td>\n",
       "    </tr>\n",
       "  </tbody>\n",
       "</table>\n",
       "</div>"
      ],
      "text/plain": [
       "      id gender masterCategory subCategory  articleType baseColour  season  \\\n",
       "0  15970    Men        Apparel     Topwear       Shirts  Navy Blue    Fall   \n",
       "1  39386    Men        Apparel  Bottomwear        Jeans       Blue  Summer   \n",
       "2  59263  Women    Accessories     Watches      Watches     Silver  Winter   \n",
       "3  21379    Men        Apparel  Bottomwear  Track Pants      Black    Fall   \n",
       "4  53759    Men        Apparel     Topwear      Tshirts       Grey  Summer   \n",
       "\n",
       "     year   usage                             productDisplayName  \n",
       "0  2011.0  Casual               Turtle Check Men Navy Blue Shirt  \n",
       "1  2012.0  Casual             Peter England Men Party Blue Jeans  \n",
       "2  2016.0  Casual                       Titan Women Silver Watch  \n",
       "3  2011.0  Casual  Manchester United Men Solid Black Track Pants  \n",
       "4  2012.0  Casual                          Puma Men Grey T-shirt  "
      ]
     },
     "metadata": {},
     "output_type": "display_data"
    },
    {
     "name": "stdout",
     "output_type": "stream",
     "text": [
      "\n",
      "\u001b[33m Статистический анализ:\u001b[0m\n"
     ]
    },
    {
     "data": {
      "text/html": [
       "<div>\n",
       "<style scoped>\n",
       "    .dataframe tbody tr th:only-of-type {\n",
       "        vertical-align: middle;\n",
       "    }\n",
       "\n",
       "    .dataframe tbody tr th {\n",
       "        vertical-align: top;\n",
       "    }\n",
       "\n",
       "    .dataframe thead th {\n",
       "        text-align: right;\n",
       "    }\n",
       "</style>\n",
       "<table border=\"1\" class=\"dataframe\">\n",
       "  <thead>\n",
       "    <tr style=\"text-align: right;\">\n",
       "      <th></th>\n",
       "      <th>id</th>\n",
       "      <th>year</th>\n",
       "    </tr>\n",
       "  </thead>\n",
       "  <tbody>\n",
       "    <tr>\n",
       "      <th>count</th>\n",
       "      <td>44424.000000</td>\n",
       "      <td>44423.000000</td>\n",
       "    </tr>\n",
       "    <tr>\n",
       "      <th>mean</th>\n",
       "      <td>29696.334301</td>\n",
       "      <td>2012.806497</td>\n",
       "    </tr>\n",
       "    <tr>\n",
       "      <th>std</th>\n",
       "      <td>17049.490518</td>\n",
       "      <td>2.126480</td>\n",
       "    </tr>\n",
       "    <tr>\n",
       "      <th>min</th>\n",
       "      <td>1163.000000</td>\n",
       "      <td>2007.000000</td>\n",
       "    </tr>\n",
       "    <tr>\n",
       "      <th>25%</th>\n",
       "      <td>14768.750000</td>\n",
       "      <td>2011.000000</td>\n",
       "    </tr>\n",
       "    <tr>\n",
       "      <th>50%</th>\n",
       "      <td>28618.500000</td>\n",
       "      <td>2012.000000</td>\n",
       "    </tr>\n",
       "    <tr>\n",
       "      <th>75%</th>\n",
       "      <td>44683.250000</td>\n",
       "      <td>2015.000000</td>\n",
       "    </tr>\n",
       "    <tr>\n",
       "      <th>max</th>\n",
       "      <td>60000.000000</td>\n",
       "      <td>2019.000000</td>\n",
       "    </tr>\n",
       "  </tbody>\n",
       "</table>\n",
       "</div>"
      ],
      "text/plain": [
       "                 id          year\n",
       "count  44424.000000  44423.000000\n",
       "mean   29696.334301   2012.806497\n",
       "std    17049.490518      2.126480\n",
       "min     1163.000000   2007.000000\n",
       "25%    14768.750000   2011.000000\n",
       "50%    28618.500000   2012.000000\n",
       "75%    44683.250000   2015.000000\n",
       "max    60000.000000   2019.000000"
      ]
     },
     "metadata": {},
     "output_type": "display_data"
    },
    {
     "name": "stdout",
     "output_type": "stream",
     "text": [
      "\n",
      "\u001b[33m Пропущенные значения:\u001b[0m\n"
     ]
    },
    {
     "data": {
      "text/plain": [
       "baseColour             15\n",
       "season                 21\n",
       "year                    1\n",
       "usage                 317\n",
       "productDisplayName      7\n",
       "dtype: int64"
      ]
     },
     "metadata": {},
     "output_type": "display_data"
    },
    {
     "name": "stdout",
     "output_type": "stream",
     "text": [
      "\n",
      "\u001b[32mДанные подготовлены для экспериментов\u001b[0m\n",
      "  Размер обработанного датасета: 44424\n",
      "  Семпл: tensor([[[2.2489, 2.2489, 2.2489,  ..., 2.2489, 2.2489, 2.2489],\n",
      "         [2.2489, 2.2489, 2.2489,  ..., 2.2489, 2.2489, 2.2489],\n",
      "         [2.2489, 2.2489, 2.2489,  ..., 2.2489, 2.2489, 2.2489],\n",
      "         ...,\n",
      "         [2.2489, 2.2489, 2.2489,  ..., 2.1804, 2.1975, 2.2147],\n",
      "         [2.2489, 2.2489, 2.2489,  ..., 2.1975, 2.1975, 2.2147],\n",
      "         [2.2489, 2.2489, 2.2489,  ..., 2.1975, 2.2147, 2.2318]],\n",
      "\n",
      "        [[2.4286, 2.4286, 2.4286,  ..., 2.4286, 2.4286, 2.4286],\n",
      "         [2.4286, 2.4286, 2.4286,  ..., 2.4286, 2.4286, 2.4286],\n",
      "         [2.4286, 2.4286, 2.4286,  ..., 2.4286, 2.4286, 2.4286],\n",
      "         ...,\n",
      "         [2.3585, 2.3761, 2.3936,  ..., 2.3936, 2.4111, 2.4111],\n",
      "         [2.3585, 2.3761, 2.3936,  ..., 2.4111, 2.4111, 2.4111],\n",
      "         [2.3761, 2.3761, 2.3936,  ..., 2.4111, 2.4286, 2.4286]],\n",
      "\n",
      "        [[2.6400, 2.6400, 2.6400,  ..., 2.6400, 2.6400, 2.6400],\n",
      "         [2.6400, 2.6400, 2.6400,  ..., 2.6400, 2.6400, 2.6400],\n",
      "         [2.6400, 2.6400, 2.6400,  ..., 2.6400, 2.6400, 2.6400],\n",
      "         ...,\n",
      "         [2.6400, 2.6400, 2.6400,  ..., 2.5877, 2.6051, 2.6226],\n",
      "         [2.6400, 2.6400, 2.6400,  ..., 2.5877, 2.6051, 2.6226],\n",
      "         [2.6400, 2.6400, 2.6400,  ..., 2.6051, 2.6051, 2.6400]]])\n",
      "  Размер табличных данных: torch.Size([259])\n",
      "  Целевая переменная: 1\n"
     ]
    }
   ],
   "source": [
    "print_step(4, \"Анализ структуры данных\", BLUE)\n",
    "\n",
    "metadata_path = os.path.join(path_to_project(), base_config['data']['data_path'], base_config['data']['metadata_file'])\n",
    "print(metadata_path)\n",
    "df = pd.read_csv(metadata_path, engine='python', on_bad_lines='warn')\n",
    "\n",
    "print(f\"{CYAN} Информация о датасете:{RESET}\")\n",
    "print(f\"  Размер датасета: {len(df)} образцов\")\n",
    "print(f\"  Количество признаков: {len(df.columns)}\")\n",
    "print(f\"  Колонки: {list(df.columns)}\")\n",
    "\n",
    "print(f\"\\n{YELLOW} Первые 5 строк данных:{RESET}\")\n",
    "display(df.head())\n",
    "\n",
    "print(f\"\\n{YELLOW} Статистический анализ:{RESET}\")\n",
    "display(df.describe())\n",
    "\n",
    "print(f\"\\n{YELLOW} Пропущенные значения:{RESET}\")\n",
    "missing_data = df.isnull().sum()\n",
    "if missing_data.sum() > 0:\n",
    "    display(missing_data[missing_data > 0])\n",
    "else:\n",
    "    print(\"Пропущенных значений не обнаружено\")\n",
    "\n",
    "from transformers import AutoImageProcessor\n",
    "transform = AutoImageProcessor.from_pretrained(base_config['model']['image_model_name']).preprocess\n",
    "\n",
    "sample_dataset = CustomDataset(\n",
    "    data_path=os.path.join(path_to_project(), base_config['data']['data_path']),\n",
    "    image_folder=base_config['data']['image_folder'],\n",
    "    metadata_file=base_config['data']['metadata_file'],\n",
    "    target_column=base_config['data'].get('target_column', None),\n",
    "    target_percentile=base_config['data'].get('target_percentile', 0.8),\n",
    "    transform=transform\n",
    ")\n",
    "\n",
    "print(f\"\\n{GREEN}Данные подготовлены для экспериментов{RESET}\")\n",
    "print(f\"  Размер обработанного датасета: {len(sample_dataset)}\")\n",
    "\n",
    "sample = sample_dataset[0]\n",
    "print(f\"  Семпл: {sample['image'] if sample['image'] is not None else 'N/A'}\")\n",
    "print(f\"  Размер табличных данных: {sample['tabular'].shape}\")\n",
    "print(f\"  Целевая переменная: {sample['target']}\")"
   ]
  },
  {
   "cell_type": "markdown",
   "id": "6aaa860d-087f-4822-9b81-47458ed2a5ea",
   "metadata": {},
   "source": [
    "# Эксперимент 1: Модель только на основе изображений\n",
    "\n",
    "## Описание эксперимента\n",
    "\n",
    "В этом эксперименте мы используем только **изображения продуктов** для предсказания CTR. Модель основана на предобученной архитектуре **DINOv2**, которая обеспечивает мощные визуальные представления.\n",
    "\n",
    "### Параметры эксперимента:\n",
    "- **Тип модели**: Image-only (DINOv2)\n",
    "- **Размер батча**: 32\n",
    "- **Learning rate**: 0.001\n",
    "- **Количество эпох**: 15\n",
    "- **Focal Loss gamma**: 2.0"
   ]
  },
  {
   "cell_type": "code",
   "execution_count": 6,
   "id": "c2efb882-c388-403c-8cda-ae33c39f09b0",
   "metadata": {},
   "outputs": [
    {
     "name": "stdout",
     "output_type": "stream",
     "text": [
      "\n",
      "\u001b[35m============================================================\u001b[0m\n",
      "\u001b[35m             ЭКСПЕРИМЕНТ 1: ТОЛЬКО ИЗОБРАЖЕНИЯ              \u001b[0m\n",
      "\u001b[35m============================================================\u001b[0m\n",
      "\n",
      "\u001b[32m Шаг 1.1: Конфигурация создана\u001b[0m\n",
      "  Тип эксперимента: image\n",
      "  Размер батча: 32\n",
      "  Learning rate: 0.0001\n",
      "  Focal Loss gamma: 2.0\n"
     ]
    }
   ],
   "source": [
    "print_header(\"ЭКСПЕРИМЕНТ 1: ТОЛЬКО ИЗОБРАЖЕНИЯ\", MAGENTA)\n",
    "\n",
    "image_config = create_config_for_experiment(\n",
    "    \"image\",\n",
    "    batch_size=32,\n",
    "    num_workers=4,\n",
    "    learning_rate=0.0001,\n",
    "    num_epochs=5,\n",
    "    focal_loss_gamma=2.0\n",
    ")\n",
    "\n",
    "print_step(\"1.1\", \"Конфигурация создана\", GREEN)\n",
    "print(f\"  Тип эксперимента: {image_config['train']['experiment_type']}\")\n",
    "print(f\"  Размер батча: {image_config['train']['batch_size']}\")\n",
    "print(f\"  Learning rate: {image_config['train']['learning_rate']}\")\n",
    "print(f\"  Focal Loss gamma: {image_config['train']['focal_loss_gamma']}\")"
   ]
  },
  {
   "cell_type": "code",
   "execution_count": 7,
   "id": "image-train-cell",
   "metadata": {},
   "outputs": [
    {
     "name": "stdout",
     "output_type": "stream",
     "text": [
      "\u001b[34m Шаг 1.2: Запуск обучения модели на изображениях\u001b[0m\n"
     ]
    },
    {
     "data": {
      "text/html": [
       "<pre style=\"white-space:pre;overflow-x:auto;line-height:normal;font-family:Menlo,'DejaVu Sans Mono',consolas,'Courier New',monospace\"><span style=\"color: #7fbfbf; text-decoration-color: #7fbfbf\">20:10:08-142341 </span><span style=\"color: #000080; text-decoration-color: #000080\">INFO    </span> Using device: cuda                                                                        \n",
       "</pre>\n"
      ],
      "text/plain": [
       "\u001b[2;36m20:10:08-142341\u001b[0m\u001b[2;36m \u001b[0m\u001b[34mINFO    \u001b[0m Using device: cuda                                                                        \n"
      ]
     },
     "metadata": {},
     "output_type": "display_data"
    },
    {
     "name": "stdout",
     "output_type": "stream",
     "text": [
      "Error loading image /home/student/projects/CTRvision/data/fashion-product-images-small/images/39425.jpg: [Errno 2] No such file or directory: '/home/student/projects/CTRvision/data/fashion-product-images-small/images/39425.jpg'\n",
      "Error loading image /home/student/projects/CTRvision/data/fashion-product-images-small/images/39403.jpg: [Errno 2] No such file or directory: '/home/student/projects/CTRvision/data/fashion-product-images-small/images/39403.jpg'\n",
      "Error loading image /home/student/projects/CTRvision/data/fashion-product-images-small/images/39410.jpg: [Errno 2] No such file or directory: '/home/student/projects/CTRvision/data/fashion-product-images-small/images/39410.jpg'\n",
      "Error loading image /home/student/projects/CTRvision/data/fashion-product-images-small/images/12347.jpg: [Errno 2] No such file or directory: '/home/student/projects/CTRvision/data/fashion-product-images-small/images/12347.jpg'\n",
      "Error loading image /home/student/projects/CTRvision/data/fashion-product-images-small/images/39401.jpg: [Errno 2] No such file or directory: '/home/student/projects/CTRvision/data/fashion-product-images-small/images/39401.jpg'\n"
     ]
    },
    {
     "data": {
      "text/html": [
       "<pre style=\"white-space:pre;overflow-x:auto;line-height:normal;font-family:Menlo,'DejaVu Sans Mono',consolas,'Courier New',monospace\"><span style=\"color: #7fbfbf; text-decoration-color: #7fbfbf\">20:14:23-491321 </span><span style=\"color: #000080; text-decoration-color: #000080\">INFO    </span> Epoch <span style=\"color: #008080; text-decoration-color: #008080; font-weight: bold\">1</span>/<span style=\"color: #008080; text-decoration-color: #008080; font-weight: bold\">5</span>, Train Loss: <span style=\"color: #008080; text-decoration-color: #008080; font-weight: bold\">0.1543</span>, Val Loss: <span style=\"color: #008080; text-decoration-color: #008080; font-weight: bold\">0.1463</span>, Val Accuracy: <span style=\"color: #008080; text-decoration-color: #008080; font-weight: bold\">75.55</span>%                     \n",
       "</pre>\n"
      ],
      "text/plain": [
       "\u001b[2;36m20:14:23-491321\u001b[0m\u001b[2;36m \u001b[0m\u001b[34mINFO    \u001b[0m Epoch \u001b[1;36m1\u001b[0m/\u001b[1;36m5\u001b[0m, Train Loss: \u001b[1;36m0.1543\u001b[0m, Val Loss: \u001b[1;36m0.1463\u001b[0m, Val Accuracy: \u001b[1;36m75.55\u001b[0m%                     \n"
      ]
     },
     "metadata": {},
     "output_type": "display_data"
    },
    {
     "name": "stdout",
     "output_type": "stream",
     "text": [
      "Error loading image /home/student/projects/CTRvision/data/fashion-product-images-small/images/39401.jpg: [Errno 2] No such file or directory: '/home/student/projects/CTRvision/data/fashion-product-images-small/images/39401.jpg'\n",
      "Error loading image /home/student/projects/CTRvision/data/fashion-product-images-small/images/12347.jpg: [Errno 2] No such file or directory: '/home/student/projects/CTRvision/data/fashion-product-images-small/images/12347.jpg'\n",
      "Error loading image /home/student/projects/CTRvision/data/fashion-product-images-small/images/39410.jpg: [Errno 2] No such file or directory: '/home/student/projects/CTRvision/data/fashion-product-images-small/images/39410.jpg'\n",
      "Error loading image /home/student/projects/CTRvision/data/fashion-product-images-small/images/39425.jpg: [Errno 2] No such file or directory: '/home/student/projects/CTRvision/data/fashion-product-images-small/images/39425.jpg'\n",
      "Error loading image /home/student/projects/CTRvision/data/fashion-product-images-small/images/39403.jpg: [Errno 2] No such file or directory: '/home/student/projects/CTRvision/data/fashion-product-images-small/images/39403.jpg'\n"
     ]
    },
    {
     "data": {
      "text/html": [
       "<pre style=\"white-space:pre;overflow-x:auto;line-height:normal;font-family:Menlo,'DejaVu Sans Mono',consolas,'Courier New',monospace\"><span style=\"color: #7fbfbf; text-decoration-color: #7fbfbf\">20:18:23-814645 </span><span style=\"color: #000080; text-decoration-color: #000080\">INFO    </span> Epoch <span style=\"color: #008080; text-decoration-color: #008080; font-weight: bold\">2</span>/<span style=\"color: #008080; text-decoration-color: #008080; font-weight: bold\">5</span>, Train Loss: <span style=\"color: #008080; text-decoration-color: #008080; font-weight: bold\">0.1420</span>, Val Loss: <span style=\"color: #008080; text-decoration-color: #008080; font-weight: bold\">0.1448</span>, Val Accuracy: <span style=\"color: #008080; text-decoration-color: #008080; font-weight: bold\">75.66</span>%                     \n",
       "</pre>\n"
      ],
      "text/plain": [
       "\u001b[2;36m20:18:23-814645\u001b[0m\u001b[2;36m \u001b[0m\u001b[34mINFO    \u001b[0m Epoch \u001b[1;36m2\u001b[0m/\u001b[1;36m5\u001b[0m, Train Loss: \u001b[1;36m0.1420\u001b[0m, Val Loss: \u001b[1;36m0.1448\u001b[0m, Val Accuracy: \u001b[1;36m75.66\u001b[0m%                     \n"
      ]
     },
     "metadata": {},
     "output_type": "display_data"
    },
    {
     "name": "stdout",
     "output_type": "stream",
     "text": [
      "Error loading image /home/student/projects/CTRvision/data/fashion-product-images-small/images/39401.jpg: [Errno 2] No such file or directory: '/home/student/projects/CTRvision/data/fashion-product-images-small/images/39401.jpg'\n",
      "Error loading image /home/student/projects/CTRvision/data/fashion-product-images-small/images/39403.jpg: [Errno 2] No such file or directory: '/home/student/projects/CTRvision/data/fashion-product-images-small/images/39403.jpg'\n",
      "Error loading image /home/student/projects/CTRvision/data/fashion-product-images-small/images/39410.jpg: [Errno 2] No such file or directory: '/home/student/projects/CTRvision/data/fashion-product-images-small/images/39410.jpg'\n",
      "Error loading image /home/student/projects/CTRvision/data/fashion-product-images-small/images/39425.jpg: [Errno 2] No such file or directory: '/home/student/projects/CTRvision/data/fashion-product-images-small/images/39425.jpg'\n",
      "Error loading image /home/student/projects/CTRvision/data/fashion-product-images-small/images/12347.jpg: [Errno 2] No such file or directory: '/home/student/projects/CTRvision/data/fashion-product-images-small/images/12347.jpg'\n"
     ]
    },
    {
     "data": {
      "text/html": [
       "<pre style=\"white-space:pre;overflow-x:auto;line-height:normal;font-family:Menlo,'DejaVu Sans Mono',consolas,'Courier New',monospace\"><span style=\"color: #7fbfbf; text-decoration-color: #7fbfbf\">20:22:22-229837 </span><span style=\"color: #000080; text-decoration-color: #000080\">INFO    </span> Epoch <span style=\"color: #008080; text-decoration-color: #008080; font-weight: bold\">3</span>/<span style=\"color: #008080; text-decoration-color: #008080; font-weight: bold\">5</span>, Train Loss: <span style=\"color: #008080; text-decoration-color: #008080; font-weight: bold\">0.1395</span>, Val Loss: <span style=\"color: #008080; text-decoration-color: #008080; font-weight: bold\">0.1453</span>, Val Accuracy: <span style=\"color: #008080; text-decoration-color: #008080; font-weight: bold\">75.55</span>%                     \n",
       "</pre>\n"
      ],
      "text/plain": [
       "\u001b[2;36m20:22:22-229837\u001b[0m\u001b[2;36m \u001b[0m\u001b[34mINFO    \u001b[0m Epoch \u001b[1;36m3\u001b[0m/\u001b[1;36m5\u001b[0m, Train Loss: \u001b[1;36m0.1395\u001b[0m, Val Loss: \u001b[1;36m0.1453\u001b[0m, Val Accuracy: \u001b[1;36m75.55\u001b[0m%                     \n"
      ]
     },
     "metadata": {},
     "output_type": "display_data"
    },
    {
     "name": "stdout",
     "output_type": "stream",
     "text": [
      "Error loading image /home/student/projects/CTRvision/data/fashion-product-images-small/images/39401.jpg: [Errno 2] No such file or directory: '/home/student/projects/CTRvision/data/fashion-product-images-small/images/39401.jpg'\n",
      "Error loading image /home/student/projects/CTRvision/data/fashion-product-images-small/images/39425.jpg: [Errno 2] No such file or directory: '/home/student/projects/CTRvision/data/fashion-product-images-small/images/39425.jpg'\n",
      "Error loading image /home/student/projects/CTRvision/data/fashion-product-images-small/images/39403.jpg: [Errno 2] No such file or directory: '/home/student/projects/CTRvision/data/fashion-product-images-small/images/39403.jpg'\n",
      "Error loading image /home/student/projects/CTRvision/data/fashion-product-images-small/images/39410.jpg: [Errno 2] No such file or directory: '/home/student/projects/CTRvision/data/fashion-product-images-small/images/39410.jpg'\n",
      "Error loading image /home/student/projects/CTRvision/data/fashion-product-images-small/images/12347.jpg: [Errno 2] No such file or directory: '/home/student/projects/CTRvision/data/fashion-product-images-small/images/12347.jpg'\n"
     ]
    },
    {
     "data": {
      "text/html": [
       "<pre style=\"white-space:pre;overflow-x:auto;line-height:normal;font-family:Menlo,'DejaVu Sans Mono',consolas,'Courier New',monospace\"><span style=\"color: #7fbfbf; text-decoration-color: #7fbfbf\">20:26:23-843295 </span><span style=\"color: #000080; text-decoration-color: #000080\">INFO    </span> Epoch <span style=\"color: #008080; text-decoration-color: #008080; font-weight: bold\">4</span>/<span style=\"color: #008080; text-decoration-color: #008080; font-weight: bold\">5</span>, Train Loss: <span style=\"color: #008080; text-decoration-color: #008080; font-weight: bold\">0.1377</span>, Val Loss: <span style=\"color: #008080; text-decoration-color: #008080; font-weight: bold\">0.1470</span>, Val Accuracy: <span style=\"color: #008080; text-decoration-color: #008080; font-weight: bold\">75.35</span>%                     \n",
       "</pre>\n"
      ],
      "text/plain": [
       "\u001b[2;36m20:26:23-843295\u001b[0m\u001b[2;36m \u001b[0m\u001b[34mINFO    \u001b[0m Epoch \u001b[1;36m4\u001b[0m/\u001b[1;36m5\u001b[0m, Train Loss: \u001b[1;36m0.1377\u001b[0m, Val Loss: \u001b[1;36m0.1470\u001b[0m, Val Accuracy: \u001b[1;36m75.35\u001b[0m%                     \n"
      ]
     },
     "metadata": {},
     "output_type": "display_data"
    },
    {
     "name": "stdout",
     "output_type": "stream",
     "text": [
      "Error loading image /home/student/projects/CTRvision/data/fashion-product-images-small/images/39425.jpg: [Errno 2] No such file or directory: '/home/student/projects/CTRvision/data/fashion-product-images-small/images/39425.jpg'\n",
      "Error loading image /home/student/projects/CTRvision/data/fashion-product-images-small/images/12347.jpg: [Errno 2] No such file or directory: '/home/student/projects/CTRvision/data/fashion-product-images-small/images/12347.jpg'\n",
      "Error loading image /home/student/projects/CTRvision/data/fashion-product-images-small/images/39403.jpg: [Errno 2] No such file or directory: '/home/student/projects/CTRvision/data/fashion-product-images-small/images/39403.jpg'\n",
      "Error loading image /home/student/projects/CTRvision/data/fashion-product-images-small/images/39410.jpg: [Errno 2] No such file or directory: '/home/student/projects/CTRvision/data/fashion-product-images-small/images/39410.jpg'\n",
      "Error loading image /home/student/projects/CTRvision/data/fashion-product-images-small/images/39401.jpg: [Errno 2] No such file or directory: '/home/student/projects/CTRvision/data/fashion-product-images-small/images/39401.jpg'\n"
     ]
    },
    {
     "data": {
      "text/html": [
       "<pre style=\"white-space:pre;overflow-x:auto;line-height:normal;font-family:Menlo,'DejaVu Sans Mono',consolas,'Courier New',monospace\"><span style=\"color: #7fbfbf; text-decoration-color: #7fbfbf\">20:30:22-382789 </span><span style=\"color: #000080; text-decoration-color: #000080\">INFO    </span> Epoch <span style=\"color: #008080; text-decoration-color: #008080; font-weight: bold\">5</span>/<span style=\"color: #008080; text-decoration-color: #008080; font-weight: bold\">5</span>, Train Loss: <span style=\"color: #008080; text-decoration-color: #008080; font-weight: bold\">0.1358</span>, Val Loss: <span style=\"color: #008080; text-decoration-color: #008080; font-weight: bold\">0.1468</span>, Val Accuracy: <span style=\"color: #008080; text-decoration-color: #008080; font-weight: bold\">75.37</span>%                     \n",
       "</pre>\n"
      ],
      "text/plain": [
       "\u001b[2;36m20:30:22-382789\u001b[0m\u001b[2;36m \u001b[0m\u001b[34mINFO    \u001b[0m Epoch \u001b[1;36m5\u001b[0m/\u001b[1;36m5\u001b[0m, Train Loss: \u001b[1;36m0.1358\u001b[0m, Val Loss: \u001b[1;36m0.1468\u001b[0m, Val Accuracy: \u001b[1;36m75.37\u001b[0m%                     \n"
      ]
     },
     "metadata": {},
     "output_type": "display_data"
    },
    {
     "data": {
      "text/html": [
       "<pre style=\"white-space:pre;overflow-x:auto;line-height:normal;font-family:Menlo,'DejaVu Sans Mono',consolas,'Courier New',monospace\"><span style=\"color: #7fbfbf; text-decoration-color: #7fbfbf\">20:30:23-456445 </span><span style=\"color: #000080; text-decoration-color: #000080\">INFO    </span> Model saved to weights/image_model.pth                                                    \n",
       "</pre>\n"
      ],
      "text/plain": [
       "\u001b[2;36m20:30:23-456445\u001b[0m\u001b[2;36m \u001b[0m\u001b[34mINFO    \u001b[0m Model saved to weights/image_model.pth                                                    \n"
      ]
     },
     "metadata": {},
     "output_type": "display_data"
    },
    {
     "data": {
      "text/html": [
       "<pre style=\"white-space:pre;overflow-x:auto;line-height:normal;font-family:Menlo,'DejaVu Sans Mono',consolas,'Courier New',monospace\"><span style=\"color: #7fbfbf; text-decoration-color: #7fbfbf\">20:30:23-462436 </span><span style=\"color: #000080; text-decoration-color: #000080\">INFO    </span> Metrics saved to metrics/image_metrics.pt                                                 \n",
       "</pre>\n"
      ],
      "text/plain": [
       "\u001b[2;36m20:30:23-462436\u001b[0m\u001b[2;36m \u001b[0m\u001b[34mINFO    \u001b[0m Metrics saved to metrics/image_metrics.pt                                                 \n"
      ]
     },
     "metadata": {},
     "output_type": "display_data"
    },
    {
     "name": "stdout",
     "output_type": "stream",
     "text": [
      "\u001b[36m Шаг 1.3: Визуализация результатов\u001b[0m\n"
     ]
    },
    {
     "data": {
      "text/html": [
       "<pre style=\"white-space:pre;overflow-x:auto;line-height:normal;font-family:Menlo,'DejaVu Sans Mono',consolas,'Courier New',monospace\"><span style=\"color: #7fbfbf; text-decoration-color: #7fbfbf\">20:31:13-196832 </span><span style=\"color: #000080; text-decoration-color: #000080\">INFO    </span> Plots and metrics saved to plots                                                          \n",
       "</pre>\n"
      ],
      "text/plain": [
       "\u001b[2;36m20:31:13-196832\u001b[0m\u001b[2;36m \u001b[0m\u001b[34mINFO    \u001b[0m Plots and metrics saved to plots                                                          \n"
      ]
     },
     "metadata": {},
     "output_type": "display_data"
    },
    {
     "data": {
      "text/html": [
       "<pre style=\"white-space:pre;overflow-x:auto;line-height:normal;font-family:Menlo,'DejaVu Sans Mono',consolas,'Courier New',monospace\"><span style=\"color: #7fbfbf; text-decoration-color: #7fbfbf\">20:31:13-208687 </span><span style=\"color: #000080; text-decoration-color: #000080\">INFO    </span> Final Validation Accuracy: <span style=\"color: #008080; text-decoration-color: #008080; font-weight: bold\">75.37</span>%                                                         \n",
       "</pre>\n"
      ],
      "text/plain": [
       "\u001b[2;36m20:31:13-208687\u001b[0m\u001b[2;36m \u001b[0m\u001b[34mINFO    \u001b[0m Final Validation Accuracy: \u001b[1;36m75.37\u001b[0m%                                                         \n"
      ]
     },
     "metadata": {},
     "output_type": "display_data"
    },
    {
     "data": {
      "text/html": [
       "<pre style=\"white-space:pre;overflow-x:auto;line-height:normal;font-family:Menlo,'DejaVu Sans Mono',consolas,'Courier New',monospace\"><span style=\"color: #7fbfbf; text-decoration-color: #7fbfbf\">20:31:13-213186 </span><span style=\"color: #000080; text-decoration-color: #000080\">INFO    </span> ROC AUC: <span style=\"color: #008080; text-decoration-color: #008080; font-weight: bold\">0.5027</span>                                                                           \n",
       "</pre>\n"
      ],
      "text/plain": [
       "\u001b[2;36m20:31:13-213186\u001b[0m\u001b[2;36m \u001b[0m\u001b[34mINFO    \u001b[0m ROC AUC: \u001b[1;36m0.5027\u001b[0m                                                                           \n"
      ]
     },
     "metadata": {},
     "output_type": "display_data"
    },
    {
     "name": "stdout",
     "output_type": "stream",
     "text": [
      "\n",
      "\u001b[32m Эксперимент 1 завершен!\u001b[0m\n"
     ]
    }
   ],
   "source": [
    "print_step(\"1.2\", \"Запуск обучения модели на изображениях\", BLUE)\n",
    "image_model, image_metrics = train_model(image_config)\n",
    "print_step(\"1.3\", \"Визуализация результатов\", CYAN)\n",
    "plot_results(image_config)\n",
    "print(f\"\\n{GREEN} Эксперимент 1 завершен!{RESET}\")"
   ]
  },
  {
   "cell_type": "markdown",
   "id": "0f5b081b-6946-448e-a43b-35217e510a32",
   "metadata": {},
   "source": [
    "# Эксперимент 2: Модель только на основе табличных данных\n",
    "\n",
    "## Описание эксперимента\n",
    "\n",
    "В этом эксперименте мы используем только **метаданные продуктов** (цена, категория, пол и другие атрибуты) для предсказания CTR. Это поможет понять, насколько информативны числовые и категориальные признаки.\n",
    "\n",
    "### Параметры эксперимента:\n",
    "- **Тип модели**: Tabular-only (MLP)\n",
    "- **Размер батча**: 64\n",
    "- **Learning rate**: 0.0001\n",
    "- **Количество эпох**: 5\n",
    "- **Focal Loss gamma**: 2.0\n",
    "- **Архитектура**: [512, 256, 128]"
   ]
  },
  {
   "cell_type": "code",
   "execution_count": 8,
   "id": "600c1d17-6fa8-4912-a11a-7215236e0875",
   "metadata": {},
   "outputs": [
    {
     "name": "stdout",
     "output_type": "stream",
     "text": [
      "\n",
      "\u001b[35m============================================================\u001b[0m\n",
      "\u001b[35m           ЭКСПЕРИМЕНТ 2: ТОЛЬКО ТАБЛИЧНЫЕ ДАННЫЕ           \u001b[0m\n",
      "\u001b[35m============================================================\u001b[0m\n",
      "\n",
      "\u001b[32m Шаг 2.1: Конфигурация создана\u001b[0m\n",
      "  Тип эксперимента: tabular\n",
      "  Размер батча: 64\n",
      "  Learning rate: 0.0001\n",
      "  Focal Loss gamma: 2.0\n",
      "  Архитектура: [512, 256, 128]\n"
     ]
    }
   ],
   "source": [
    "print_header(\"ЭКСПЕРИМЕНТ 2: ТОЛЬКО ТАБЛИЧНЫЕ ДАННЫЕ\", MAGENTA)\n",
    "\n",
    "tabular_config = create_config_for_experiment(\n",
    "    \"tabular\",\n",
    "    batch_size=64,\n",
    "    num_workers=4,\n",
    "    learning_rate=0.0001,\n",
    "    num_epochs=5,\n",
    "    focal_loss_gamma=2.0,\n",
    "    **{\"model.tabular_hidden_sizes\": [512, 256, 128]}\n",
    ")\n",
    "\n",
    "print_step(\"2.1\", \"Конфигурация создана\", GREEN)\n",
    "print(f\"  Тип эксперимента: {tabular_config['train']['experiment_type']}\")\n",
    "print(f\"  Размер батча: {tabular_config['train']['batch_size']}\")\n",
    "print(f\"  Learning rate: {tabular_config['train']['learning_rate']}\")\n",
    "print(f\"  Focal Loss gamma: {tabular_config['train']['focal_loss_gamma']}\")\n",
    "print(f\"  Архитектура: {tabular_config['model']['tabular_hidden_sizes']}\")"
   ]
  },
  {
   "cell_type": "code",
   "execution_count": 9,
   "id": "tabular-train-cell",
   "metadata": {},
   "outputs": [
    {
     "name": "stdout",
     "output_type": "stream",
     "text": [
      "\u001b[34m Шаг 2.2: Запуск обучения модели на табличных данных\u001b[0m\n"
     ]
    },
    {
     "data": {
      "text/html": [
       "<pre style=\"white-space:pre;overflow-x:auto;line-height:normal;font-family:Menlo,'DejaVu Sans Mono',consolas,'Courier New',monospace\"><span style=\"color: #7fbfbf; text-decoration-color: #7fbfbf\">20:31:14-030771 </span><span style=\"color: #000080; text-decoration-color: #000080\">INFO    </span> Using device: cuda                                                                        \n",
       "</pre>\n"
      ],
      "text/plain": [
       "\u001b[2;36m20:31:14-030771\u001b[0m\u001b[2;36m \u001b[0m\u001b[34mINFO    \u001b[0m Using device: cuda                                                                        \n"
      ]
     },
     "metadata": {},
     "output_type": "display_data"
    },
    {
     "name": "stdout",
     "output_type": "stream",
     "text": [
      "Error loading image /home/student/projects/CTRvision/data/fashion-product-images-small/images/12347.jpg: [Errno 2] No such file or directory: '/home/student/projects/CTRvision/data/fashion-product-images-small/images/12347.jpg'\n",
      "Error loading image /home/student/projects/CTRvision/data/fashion-product-images-small/images/39403.jpg: [Errno 2] No such file or directory: '/home/student/projects/CTRvision/data/fashion-product-images-small/images/39403.jpg'\n",
      "Error loading image /home/student/projects/CTRvision/data/fashion-product-images-small/images/39410.jpg: [Errno 2] No such file or directory: '/home/student/projects/CTRvision/data/fashion-product-images-small/images/39410.jpg'\n",
      "Error loading image /home/student/projects/CTRvision/data/fashion-product-images-small/images/39401.jpg: [Errno 2] No such file or directory: '/home/student/projects/CTRvision/data/fashion-product-images-small/images/39401.jpg'\n",
      "Error loading image /home/student/projects/CTRvision/data/fashion-product-images-small/images/39425.jpg: [Errno 2] No such file or directory: '/home/student/projects/CTRvision/data/fashion-product-images-small/images/39425.jpg'\n"
     ]
    },
    {
     "data": {
      "text/html": [
       "<pre style=\"white-space:pre;overflow-x:auto;line-height:normal;font-family:Menlo,'DejaVu Sans Mono',consolas,'Courier New',monospace\"><span style=\"color: #7fbfbf; text-decoration-color: #7fbfbf\">20:35:26-270171 </span><span style=\"color: #000080; text-decoration-color: #000080\">INFO    </span> Epoch <span style=\"color: #008080; text-decoration-color: #008080; font-weight: bold\">1</span>/<span style=\"color: #008080; text-decoration-color: #008080; font-weight: bold\">5</span>, Train Loss: <span style=\"color: #008080; text-decoration-color: #008080; font-weight: bold\">0.4015</span>, Val Loss: nan, Val Accuracy: <span style=\"color: #008080; text-decoration-color: #008080; font-weight: bold\">75.73</span>%                        \n",
       "</pre>\n"
      ],
      "text/plain": [
       "\u001b[2;36m20:35:26-270171\u001b[0m\u001b[2;36m \u001b[0m\u001b[34mINFO    \u001b[0m Epoch \u001b[1;36m1\u001b[0m/\u001b[1;36m5\u001b[0m, Train Loss: \u001b[1;36m0.4015\u001b[0m, Val Loss: nan, Val Accuracy: \u001b[1;36m75.73\u001b[0m%                        \n"
      ]
     },
     "metadata": {},
     "output_type": "display_data"
    },
    {
     "name": "stdout",
     "output_type": "stream",
     "text": [
      "Error loading image /home/student/projects/CTRvision/data/fashion-product-images-small/images/39425.jpg: [Errno 2] No such file or directory: '/home/student/projects/CTRvision/data/fashion-product-images-small/images/39425.jpg'\n",
      "Error loading image /home/student/projects/CTRvision/data/fashion-product-images-small/images/39410.jpg: [Errno 2] No such file or directory: '/home/student/projects/CTRvision/data/fashion-product-images-small/images/39410.jpg'\n",
      "Error loading image /home/student/projects/CTRvision/data/fashion-product-images-small/images/39403.jpg: [Errno 2] No such file or directory: '/home/student/projects/CTRvision/data/fashion-product-images-small/images/39403.jpg'\n",
      "Error loading image /home/student/projects/CTRvision/data/fashion-product-images-small/images/39401.jpg: [Errno 2] No such file or directory: '/home/student/projects/CTRvision/data/fashion-product-images-small/images/39401.jpg'\n",
      "Error loading image /home/student/projects/CTRvision/data/fashion-product-images-small/images/12347.jpg: [Errno 2] No such file or directory: '/home/student/projects/CTRvision/data/fashion-product-images-small/images/12347.jpg'\n"
     ]
    },
    {
     "data": {
      "text/html": [
       "<pre style=\"white-space:pre;overflow-x:auto;line-height:normal;font-family:Menlo,'DejaVu Sans Mono',consolas,'Courier New',monospace\"><span style=\"color: #7fbfbf; text-decoration-color: #7fbfbf\">20:39:21-046630 </span><span style=\"color: #000080; text-decoration-color: #000080\">INFO    </span> Epoch <span style=\"color: #008080; text-decoration-color: #008080; font-weight: bold\">2</span>/<span style=\"color: #008080; text-decoration-color: #008080; font-weight: bold\">5</span>, Train Loss: <span style=\"color: #008080; text-decoration-color: #008080; font-weight: bold\">0.1495</span>, Val Loss: nan, Val Accuracy: <span style=\"color: #008080; text-decoration-color: #008080; font-weight: bold\">75.73</span>%                        \n",
       "</pre>\n"
      ],
      "text/plain": [
       "\u001b[2;36m20:39:21-046630\u001b[0m\u001b[2;36m \u001b[0m\u001b[34mINFO    \u001b[0m Epoch \u001b[1;36m2\u001b[0m/\u001b[1;36m5\u001b[0m, Train Loss: \u001b[1;36m0.1495\u001b[0m, Val Loss: nan, Val Accuracy: \u001b[1;36m75.73\u001b[0m%                        \n"
      ]
     },
     "metadata": {},
     "output_type": "display_data"
    },
    {
     "name": "stdout",
     "output_type": "stream",
     "text": [
      "Error loading image /home/student/projects/CTRvision/data/fashion-product-images-small/images/39401.jpg: [Errno 2] No such file or directory: '/home/student/projects/CTRvision/data/fashion-product-images-small/images/39401.jpg'\n",
      "Error loading image /home/student/projects/CTRvision/data/fashion-product-images-small/images/12347.jpg: [Errno 2] No such file or directory: '/home/student/projects/CTRvision/data/fashion-product-images-small/images/12347.jpg'\n",
      "Error loading image /home/student/projects/CTRvision/data/fashion-product-images-small/images/39403.jpg: [Errno 2] No such file or directory: '/home/student/projects/CTRvision/data/fashion-product-images-small/images/39403.jpg'\n",
      "Error loading image /home/student/projects/CTRvision/data/fashion-product-images-small/images/39410.jpg: [Errno 2] No such file or directory: '/home/student/projects/CTRvision/data/fashion-product-images-small/images/39410.jpg'\n",
      "Error loading image /home/student/projects/CTRvision/data/fashion-product-images-small/images/39425.jpg: [Errno 2] No such file or directory: '/home/student/projects/CTRvision/data/fashion-product-images-small/images/39425.jpg'\n"
     ]
    },
    {
     "data": {
      "text/html": [
       "<pre style=\"white-space:pre;overflow-x:auto;line-height:normal;font-family:Menlo,'DejaVu Sans Mono',consolas,'Courier New',monospace\"><span style=\"color: #7fbfbf; text-decoration-color: #7fbfbf\">20:43:17-451774 </span><span style=\"color: #000080; text-decoration-color: #000080\">INFO    </span> Epoch <span style=\"color: #008080; text-decoration-color: #008080; font-weight: bold\">3</span>/<span style=\"color: #008080; text-decoration-color: #008080; font-weight: bold\">5</span>, Train Loss: <span style=\"color: #008080; text-decoration-color: #008080; font-weight: bold\">0.1445</span>, Val Loss: nan, Val Accuracy: <span style=\"color: #008080; text-decoration-color: #008080; font-weight: bold\">75.73</span>%                        \n",
       "</pre>\n"
      ],
      "text/plain": [
       "\u001b[2;36m20:43:17-451774\u001b[0m\u001b[2;36m \u001b[0m\u001b[34mINFO    \u001b[0m Epoch \u001b[1;36m3\u001b[0m/\u001b[1;36m5\u001b[0m, Train Loss: \u001b[1;36m0.1445\u001b[0m, Val Loss: nan, Val Accuracy: \u001b[1;36m75.73\u001b[0m%                        \n"
      ]
     },
     "metadata": {},
     "output_type": "display_data"
    },
    {
     "name": "stdout",
     "output_type": "stream",
     "text": [
      "Error loading image /home/student/projects/CTRvision/data/fashion-product-images-small/images/12347.jpg: [Errno 2] No such file or directory: '/home/student/projects/CTRvision/data/fashion-product-images-small/images/12347.jpg'\n",
      "Error loading image /home/student/projects/CTRvision/data/fashion-product-images-small/images/39410.jpg: [Errno 2] No such file or directory: '/home/student/projects/CTRvision/data/fashion-product-images-small/images/39410.jpg'\n",
      "Error loading image /home/student/projects/CTRvision/data/fashion-product-images-small/images/39401.jpg: [Errno 2] No such file or directory: '/home/student/projects/CTRvision/data/fashion-product-images-small/images/39401.jpg'\n",
      "Error loading image /home/student/projects/CTRvision/data/fashion-product-images-small/images/39403.jpg: [Errno 2] No such file or directory: '/home/student/projects/CTRvision/data/fashion-product-images-small/images/39403.jpg'\n",
      "Error loading image /home/student/projects/CTRvision/data/fashion-product-images-small/images/39425.jpg: [Errno 2] No such file or directory: '/home/student/projects/CTRvision/data/fashion-product-images-small/images/39425.jpg'\n"
     ]
    },
    {
     "data": {
      "text/html": [
       "<pre style=\"white-space:pre;overflow-x:auto;line-height:normal;font-family:Menlo,'DejaVu Sans Mono',consolas,'Courier New',monospace\"><span style=\"color: #7fbfbf; text-decoration-color: #7fbfbf\">20:47:10-762466 </span><span style=\"color: #000080; text-decoration-color: #000080\">INFO    </span> Epoch <span style=\"color: #008080; text-decoration-color: #008080; font-weight: bold\">4</span>/<span style=\"color: #008080; text-decoration-color: #008080; font-weight: bold\">5</span>, Train Loss: <span style=\"color: #008080; text-decoration-color: #008080; font-weight: bold\">0.1435</span>, Val Loss: nan, Val Accuracy: <span style=\"color: #008080; text-decoration-color: #008080; font-weight: bold\">75.73</span>%                        \n",
       "</pre>\n"
      ],
      "text/plain": [
       "\u001b[2;36m20:47:10-762466\u001b[0m\u001b[2;36m \u001b[0m\u001b[34mINFO    \u001b[0m Epoch \u001b[1;36m4\u001b[0m/\u001b[1;36m5\u001b[0m, Train Loss: \u001b[1;36m0.1435\u001b[0m, Val Loss: nan, Val Accuracy: \u001b[1;36m75.73\u001b[0m%                        \n"
      ]
     },
     "metadata": {},
     "output_type": "display_data"
    },
    {
     "name": "stdout",
     "output_type": "stream",
     "text": [
      "Error loading image /home/student/projects/CTRvision/data/fashion-product-images-small/images/39401.jpg: [Errno 2] No such file or directory: '/home/student/projects/CTRvision/data/fashion-product-images-small/images/39401.jpg'\n",
      "Error loading image /home/student/projects/CTRvision/data/fashion-product-images-small/images/39410.jpg: [Errno 2] No such file or directory: '/home/student/projects/CTRvision/data/fashion-product-images-small/images/39410.jpg'\n",
      "Error loading image /home/student/projects/CTRvision/data/fashion-product-images-small/images/39403.jpg: [Errno 2] No such file or directory: '/home/student/projects/CTRvision/data/fashion-product-images-small/images/39403.jpg'\n",
      "Error loading image /home/student/projects/CTRvision/data/fashion-product-images-small/images/39425.jpg: [Errno 2] No such file or directory: '/home/student/projects/CTRvision/data/fashion-product-images-small/images/39425.jpg'\n",
      "Error loading image /home/student/projects/CTRvision/data/fashion-product-images-small/images/12347.jpg: [Errno 2] No such file or directory: '/home/student/projects/CTRvision/data/fashion-product-images-small/images/12347.jpg'\n"
     ]
    },
    {
     "data": {
      "text/html": [
       "<pre style=\"white-space:pre;overflow-x:auto;line-height:normal;font-family:Menlo,'DejaVu Sans Mono',consolas,'Courier New',monospace\"><span style=\"color: #7fbfbf; text-decoration-color: #7fbfbf\">20:51:04-290734 </span><span style=\"color: #000080; text-decoration-color: #000080\">INFO    </span> Epoch <span style=\"color: #008080; text-decoration-color: #008080; font-weight: bold\">5</span>/<span style=\"color: #008080; text-decoration-color: #008080; font-weight: bold\">5</span>, Train Loss: <span style=\"color: #008080; text-decoration-color: #008080; font-weight: bold\">0.1431</span>, Val Loss: nan, Val Accuracy: <span style=\"color: #008080; text-decoration-color: #008080; font-weight: bold\">75.73</span>%                        \n",
       "</pre>\n"
      ],
      "text/plain": [
       "\u001b[2;36m20:51:04-290734\u001b[0m\u001b[2;36m \u001b[0m\u001b[34mINFO    \u001b[0m Epoch \u001b[1;36m5\u001b[0m/\u001b[1;36m5\u001b[0m, Train Loss: \u001b[1;36m0.1431\u001b[0m, Val Loss: nan, Val Accuracy: \u001b[1;36m75.73\u001b[0m%                        \n"
      ]
     },
     "metadata": {},
     "output_type": "display_data"
    },
    {
     "data": {
      "text/html": [
       "<pre style=\"white-space:pre;overflow-x:auto;line-height:normal;font-family:Menlo,'DejaVu Sans Mono',consolas,'Courier New',monospace\"><span style=\"color: #7fbfbf; text-decoration-color: #7fbfbf\">20:51:04-301357 </span><span style=\"color: #000080; text-decoration-color: #000080\">INFO    </span> Model saved to weights/tabular_model.pth                                                  \n",
       "</pre>\n"
      ],
      "text/plain": [
       "\u001b[2;36m20:51:04-301357\u001b[0m\u001b[2;36m \u001b[0m\u001b[34mINFO    \u001b[0m Model saved to weights/tabular_model.pth                                                  \n"
      ]
     },
     "metadata": {},
     "output_type": "display_data"
    },
    {
     "data": {
      "text/html": [
       "<pre style=\"white-space:pre;overflow-x:auto;line-height:normal;font-family:Menlo,'DejaVu Sans Mono',consolas,'Courier New',monospace\"><span style=\"color: #7fbfbf; text-decoration-color: #7fbfbf\">20:51:04-311992 </span><span style=\"color: #000080; text-decoration-color: #000080\">INFO    </span> Metrics saved to metrics/tabular_metrics.pt                                               \n",
       "</pre>\n"
      ],
      "text/plain": [
       "\u001b[2;36m20:51:04-311992\u001b[0m\u001b[2;36m \u001b[0m\u001b[34mINFO    \u001b[0m Metrics saved to metrics/tabular_metrics.pt                                               \n"
      ]
     },
     "metadata": {},
     "output_type": "display_data"
    },
    {
     "name": "stdout",
     "output_type": "stream",
     "text": [
      "\u001b[36m Шаг 2.3: Визуализация результатов\u001b[0m\n"
     ]
    },
    {
     "data": {
      "text/html": [
       "<pre style=\"white-space:pre;overflow-x:auto;line-height:normal;font-family:Menlo,'DejaVu Sans Mono',consolas,'Courier New',monospace\"><span style=\"color: #7fbfbf; text-decoration-color: #7fbfbf\">20:51:49-310196 </span><span style=\"color: #000080; text-decoration-color: #000080\">INFO    </span> Plots and metrics saved to plots                                                          \n",
       "</pre>\n"
      ],
      "text/plain": [
       "\u001b[2;36m20:51:49-310196\u001b[0m\u001b[2;36m \u001b[0m\u001b[34mINFO    \u001b[0m Plots and metrics saved to plots                                                          \n"
      ]
     },
     "metadata": {},
     "output_type": "display_data"
    },
    {
     "data": {
      "text/html": [
       "<pre style=\"white-space:pre;overflow-x:auto;line-height:normal;font-family:Menlo,'DejaVu Sans Mono',consolas,'Courier New',monospace\"><span style=\"color: #7fbfbf; text-decoration-color: #7fbfbf\">20:51:49-357615 </span><span style=\"color: #000080; text-decoration-color: #000080\">INFO    </span> Final Validation Accuracy: <span style=\"color: #008080; text-decoration-color: #008080; font-weight: bold\">75.73</span>%                                                         \n",
       "</pre>\n"
      ],
      "text/plain": [
       "\u001b[2;36m20:51:49-357615\u001b[0m\u001b[2;36m \u001b[0m\u001b[34mINFO    \u001b[0m Final Validation Accuracy: \u001b[1;36m75.73\u001b[0m%                                                         \n"
      ]
     },
     "metadata": {},
     "output_type": "display_data"
    },
    {
     "data": {
      "text/html": [
       "<pre style=\"white-space:pre;overflow-x:auto;line-height:normal;font-family:Menlo,'DejaVu Sans Mono',consolas,'Courier New',monospace\"><span style=\"color: #7fbfbf; text-decoration-color: #7fbfbf\">20:51:49-566792 </span><span style=\"color: #000080; text-decoration-color: #000080\">INFO    </span> ROC AUC: <span style=\"color: #008080; text-decoration-color: #008080; font-weight: bold\">0.5186</span>                                                                           \n",
       "</pre>\n"
      ],
      "text/plain": [
       "\u001b[2;36m20:51:49-566792\u001b[0m\u001b[2;36m \u001b[0m\u001b[34mINFO    \u001b[0m ROC AUC: \u001b[1;36m0.5186\u001b[0m                                                                           \n"
      ]
     },
     "metadata": {},
     "output_type": "display_data"
    },
    {
     "name": "stdout",
     "output_type": "stream",
     "text": [
      "\n",
      "\u001b[32m Эксперимент 2 завершен!\u001b[0m\n"
     ]
    }
   ],
   "source": [
    "print_step(\"2.2\", \"Запуск обучения модели на табличных данных\", BLUE)\n",
    "tabular_model, tabular_metrics = train_model(tabular_config)\n",
    "print_step(\"2.3\", \"Визуализация результатов\", CYAN)\n",
    "plot_results(tabular_config)\n",
    "print(f\"\\n{GREEN} Эксперимент 2 завершен!{RESET}\")"
   ]
  },
  {
   "cell_type": "markdown",
   "id": "87172a08-5cb8-40be-a1b1-432cf14e76e1",
   "metadata": {},
   "source": [
    "# Эксперимент 3: Комбинированная мультимодальная модель\n",
    "\n",
    "## Описание эксперимента\n",
    "\n",
    "В этом эксперименте мы объединяем **изображения и табличные данные** для создания мультимодальной модели. Это должно дать наилучшие результаты, так как модель использует всю доступную информацию о продуктах.\n",
    "\n",
    "### Параметры эксперимента:\n",
    "- **Тип модели**: Combined (DINOv2 + MLP)\n",
    "- **Размер батча**: 24 (меньше из-за большего размера модели)\n",
    "- **Learning rate**: 0.0001\n",
    "- **Количество эпох**: 5\n",
    "- **Focal Loss gamma**: 2.0\n",
    "- **Архитектура**: Image features + Tabular [512, 256] → Combined [512, 256]"
   ]
  },
  {
   "cell_type": "code",
   "execution_count": 10,
   "id": "e4f10917-880c-4b45-8c83-a019ab4ac973",
   "metadata": {},
   "outputs": [
    {
     "name": "stdout",
     "output_type": "stream",
     "text": [
      "\n",
      "\u001b[35m============================================================\u001b[0m\n",
      "\u001b[35m           ЭКСПЕРИМЕНТ 3: КОМБИНИРОВАННАЯ МОДЕЛЬ            \u001b[0m\n",
      "\u001b[35m============================================================\u001b[0m\n",
      "\n",
      "\u001b[32m Шаг 3.1: Конфигурация создана\u001b[0m\n",
      "  Тип эксперимента: combined\n",
      "  Размер батча: 24\n",
      "  Learning rate: 0.0001\n",
      "  Focal Loss gamma: 2.0\n",
      "  Табличная архитектура: [512, 256]\n",
      "  Комбинированная архитектура: [512, 256]\n"
     ]
    }
   ],
   "source": [
    "print_header(\"ЭКСПЕРИМЕНТ 3: КОМБИНИРОВАННАЯ МОДЕЛЬ\", MAGENTA)\n",
    "\n",
    "combined_config = create_config_for_experiment(\n",
    "    \"combined\",\n",
    "    batch_size=24,\n",
    "    num_workers=4,\n",
    "    learning_rate=0.0001,\n",
    "    num_epochs=5,\n",
    "    focal_loss_gamma=2.0,\n",
    "    **{\n",
    "        \"model.tabular_hidden_sizes\": [512, 256],\n",
    "        \"model.combined_hidden_sizes\": [512, 256]\n",
    "    }\n",
    ")\n",
    "\n",
    "print_step(\"3.1\", \"Конфигурация создана\", GREEN)\n",
    "print(f\"  Тип эксперимента: {combined_config['train']['experiment_type']}\")\n",
    "print(f\"  Размер батча: {combined_config['train']['batch_size']}\")\n",
    "print(f\"  Learning rate: {combined_config['train']['learning_rate']}\")\n",
    "print(f\"  Focal Loss gamma: {combined_config['train']['focal_loss_gamma']}\")\n",
    "print(f\"  Табличная архитектура: {combined_config['model']['tabular_hidden_sizes']}\")\n",
    "print(f\"  Комбинированная архитектура: {combined_config['model']['combined_hidden_sizes']}\")"
   ]
  },
  {
   "cell_type": "code",
   "execution_count": 11,
   "id": "combined-train-cell",
   "metadata": {},
   "outputs": [
    {
     "name": "stdout",
     "output_type": "stream",
     "text": [
      "\u001b[34m Шаг 3.2: Запуск обучения комбинированной модели\u001b[0m\n"
     ]
    },
    {
     "data": {
      "text/html": [
       "<pre style=\"white-space:pre;overflow-x:auto;line-height:normal;font-family:Menlo,'DejaVu Sans Mono',consolas,'Courier New',monospace\"><span style=\"color: #7fbfbf; text-decoration-color: #7fbfbf\">20:51:49-774713 </span><span style=\"color: #000080; text-decoration-color: #000080\">INFO    </span> Using device: cuda                                                                        \n",
       "</pre>\n"
      ],
      "text/plain": [
       "\u001b[2;36m20:51:49-774713\u001b[0m\u001b[2;36m \u001b[0m\u001b[34mINFO    \u001b[0m Using device: cuda                                                                        \n"
      ]
     },
     "metadata": {},
     "output_type": "display_data"
    },
    {
     "name": "stdout",
     "output_type": "stream",
     "text": [
      "Error loading image /home/student/projects/CTRvision/data/fashion-product-images-small/images/39425.jpg: [Errno 2] No such file or directory: '/home/student/projects/CTRvision/data/fashion-product-images-small/images/39425.jpg'\n",
      "Error loading image /home/student/projects/CTRvision/data/fashion-product-images-small/images/12347.jpg: [Errno 2] No such file or directory: '/home/student/projects/CTRvision/data/fashion-product-images-small/images/12347.jpg'\n",
      "Error loading image /home/student/projects/CTRvision/data/fashion-product-images-small/images/39401.jpg: [Errno 2] No such file or directory: '/home/student/projects/CTRvision/data/fashion-product-images-small/images/39401.jpg'\n",
      "Error loading image /home/student/projects/CTRvision/data/fashion-product-images-small/images/39403.jpg: [Errno 2] No such file or directory: '/home/student/projects/CTRvision/data/fashion-product-images-small/images/39403.jpg'\n",
      "Error loading image /home/student/projects/CTRvision/data/fashion-product-images-small/images/39410.jpg: [Errno 2] No such file or directory: '/home/student/projects/CTRvision/data/fashion-product-images-small/images/39410.jpg'\n"
     ]
    },
    {
     "data": {
      "text/html": [
       "<pre style=\"white-space:pre;overflow-x:auto;line-height:normal;font-family:Menlo,'DejaVu Sans Mono',consolas,'Courier New',monospace\"><span style=\"color: #7fbfbf; text-decoration-color: #7fbfbf\">20:56:17-510227 </span><span style=\"color: #000080; text-decoration-color: #000080\">INFO    </span> Epoch <span style=\"color: #008080; text-decoration-color: #008080; font-weight: bold\">1</span>/<span style=\"color: #008080; text-decoration-color: #008080; font-weight: bold\">5</span>, Train Loss: <span style=\"color: #008080; text-decoration-color: #008080; font-weight: bold\">0.1696</span>, Val Loss: nan, Val Accuracy: <span style=\"color: #008080; text-decoration-color: #008080; font-weight: bold\">75.73</span>%                        \n",
       "</pre>\n"
      ],
      "text/plain": [
       "\u001b[2;36m20:56:17-510227\u001b[0m\u001b[2;36m \u001b[0m\u001b[34mINFO    \u001b[0m Epoch \u001b[1;36m1\u001b[0m/\u001b[1;36m5\u001b[0m, Train Loss: \u001b[1;36m0.1696\u001b[0m, Val Loss: nan, Val Accuracy: \u001b[1;36m75.73\u001b[0m%                        \n"
      ]
     },
     "metadata": {},
     "output_type": "display_data"
    },
    {
     "name": "stdout",
     "output_type": "stream",
     "text": [
      "Error loading image /home/student/projects/CTRvision/data/fashion-product-images-small/images/39425.jpg: [Errno 2] No such file or directory: '/home/student/projects/CTRvision/data/fashion-product-images-small/images/39425.jpg'\n",
      "Error loading image /home/student/projects/CTRvision/data/fashion-product-images-small/images/39403.jpg: [Errno 2] No such file or directory: '/home/student/projects/CTRvision/data/fashion-product-images-small/images/39403.jpg'\n",
      "Error loading image /home/student/projects/CTRvision/data/fashion-product-images-small/images/12347.jpg: [Errno 2] No such file or directory: '/home/student/projects/CTRvision/data/fashion-product-images-small/images/12347.jpg'\n",
      "Error loading image /home/student/projects/CTRvision/data/fashion-product-images-small/images/39410.jpg: [Errno 2] No such file or directory: '/home/student/projects/CTRvision/data/fashion-product-images-small/images/39410.jpg'\n",
      "Error loading image /home/student/projects/CTRvision/data/fashion-product-images-small/images/39401.jpg: [Errno 2] No such file or directory: '/home/student/projects/CTRvision/data/fashion-product-images-small/images/39401.jpg'\n"
     ]
    },
    {
     "data": {
      "text/html": [
       "<pre style=\"white-space:pre;overflow-x:auto;line-height:normal;font-family:Menlo,'DejaVu Sans Mono',consolas,'Courier New',monospace\"><span style=\"color: #7fbfbf; text-decoration-color: #7fbfbf\">21:00:28-293291 </span><span style=\"color: #000080; text-decoration-color: #000080\">INFO    </span> Epoch <span style=\"color: #008080; text-decoration-color: #008080; font-weight: bold\">2</span>/<span style=\"color: #008080; text-decoration-color: #008080; font-weight: bold\">5</span>, Train Loss: <span style=\"color: #008080; text-decoration-color: #008080; font-weight: bold\">0.1432</span>, Val Loss: nan, Val Accuracy: <span style=\"color: #008080; text-decoration-color: #008080; font-weight: bold\">75.73</span>%                        \n",
       "</pre>\n"
      ],
      "text/plain": [
       "\u001b[2;36m21:00:28-293291\u001b[0m\u001b[2;36m \u001b[0m\u001b[34mINFO    \u001b[0m Epoch \u001b[1;36m2\u001b[0m/\u001b[1;36m5\u001b[0m, Train Loss: \u001b[1;36m0.1432\u001b[0m, Val Loss: nan, Val Accuracy: \u001b[1;36m75.73\u001b[0m%                        \n"
      ]
     },
     "metadata": {},
     "output_type": "display_data"
    },
    {
     "name": "stdout",
     "output_type": "stream",
     "text": [
      "Error loading image /home/student/projects/CTRvision/data/fashion-product-images-small/images/39401.jpg: [Errno 2] No such file or directory: '/home/student/projects/CTRvision/data/fashion-product-images-small/images/39401.jpg'\n",
      "Error loading image /home/student/projects/CTRvision/data/fashion-product-images-small/images/39425.jpg: [Errno 2] No such file or directory: '/home/student/projects/CTRvision/data/fashion-product-images-small/images/39425.jpg'\n",
      "Error loading image /home/student/projects/CTRvision/data/fashion-product-images-small/images/39410.jpg: [Errno 2] No such file or directory: '/home/student/projects/CTRvision/data/fashion-product-images-small/images/39410.jpg'\n",
      "Error loading image /home/student/projects/CTRvision/data/fashion-product-images-small/images/39403.jpg: [Errno 2] No such file or directory: '/home/student/projects/CTRvision/data/fashion-product-images-small/images/39403.jpg'\n",
      "Error loading image /home/student/projects/CTRvision/data/fashion-product-images-small/images/12347.jpg: [Errno 2] No such file or directory: '/home/student/projects/CTRvision/data/fashion-product-images-small/images/12347.jpg'\n"
     ]
    },
    {
     "data": {
      "text/html": [
       "<pre style=\"white-space:pre;overflow-x:auto;line-height:normal;font-family:Menlo,'DejaVu Sans Mono',consolas,'Courier New',monospace\"><span style=\"color: #7fbfbf; text-decoration-color: #7fbfbf\">21:04:36-811063 </span><span style=\"color: #000080; text-decoration-color: #000080\">INFO    </span> Epoch <span style=\"color: #008080; text-decoration-color: #008080; font-weight: bold\">3</span>/<span style=\"color: #008080; text-decoration-color: #008080; font-weight: bold\">5</span>, Train Loss: <span style=\"color: #008080; text-decoration-color: #008080; font-weight: bold\">0.1426</span>, Val Loss: nan, Val Accuracy: <span style=\"color: #008080; text-decoration-color: #008080; font-weight: bold\">75.73</span>%                        \n",
       "</pre>\n"
      ],
      "text/plain": [
       "\u001b[2;36m21:04:36-811063\u001b[0m\u001b[2;36m \u001b[0m\u001b[34mINFO    \u001b[0m Epoch \u001b[1;36m3\u001b[0m/\u001b[1;36m5\u001b[0m, Train Loss: \u001b[1;36m0.1426\u001b[0m, Val Loss: nan, Val Accuracy: \u001b[1;36m75.73\u001b[0m%                        \n"
      ]
     },
     "metadata": {},
     "output_type": "display_data"
    },
    {
     "name": "stdout",
     "output_type": "stream",
     "text": [
      "Error loading image /home/student/projects/CTRvision/data/fashion-product-images-small/images/39401.jpg: [Errno 2] No such file or directory: '/home/student/projects/CTRvision/data/fashion-product-images-small/images/39401.jpg'\n",
      "Error loading image /home/student/projects/CTRvision/data/fashion-product-images-small/images/39403.jpg: [Errno 2] No such file or directory: '/home/student/projects/CTRvision/data/fashion-product-images-small/images/39403.jpg'\n",
      "Error loading image /home/student/projects/CTRvision/data/fashion-product-images-small/images/39410.jpg: [Errno 2] No such file or directory: '/home/student/projects/CTRvision/data/fashion-product-images-small/images/39410.jpg'\n",
      "Error loading image /home/student/projects/CTRvision/data/fashion-product-images-small/images/39425.jpg: [Errno 2] No such file or directory: '/home/student/projects/CTRvision/data/fashion-product-images-small/images/39425.jpg'\n",
      "Error loading image /home/student/projects/CTRvision/data/fashion-product-images-small/images/12347.jpg: [Errno 2] No such file or directory: '/home/student/projects/CTRvision/data/fashion-product-images-small/images/12347.jpg'\n"
     ]
    },
    {
     "data": {
      "text/html": [
       "<pre style=\"white-space:pre;overflow-x:auto;line-height:normal;font-family:Menlo,'DejaVu Sans Mono',consolas,'Courier New',monospace\"><span style=\"color: #7fbfbf; text-decoration-color: #7fbfbf\">21:08:42-641710 </span><span style=\"color: #000080; text-decoration-color: #000080\">INFO    </span> Epoch <span style=\"color: #008080; text-decoration-color: #008080; font-weight: bold\">4</span>/<span style=\"color: #008080; text-decoration-color: #008080; font-weight: bold\">5</span>, Train Loss: <span style=\"color: #008080; text-decoration-color: #008080; font-weight: bold\">0.1421</span>, Val Loss: nan, Val Accuracy: <span style=\"color: #008080; text-decoration-color: #008080; font-weight: bold\">75.73</span>%                        \n",
       "</pre>\n"
      ],
      "text/plain": [
       "\u001b[2;36m21:08:42-641710\u001b[0m\u001b[2;36m \u001b[0m\u001b[34mINFO    \u001b[0m Epoch \u001b[1;36m4\u001b[0m/\u001b[1;36m5\u001b[0m, Train Loss: \u001b[1;36m0.1421\u001b[0m, Val Loss: nan, Val Accuracy: \u001b[1;36m75.73\u001b[0m%                        \n"
      ]
     },
     "metadata": {},
     "output_type": "display_data"
    },
    {
     "name": "stdout",
     "output_type": "stream",
     "text": [
      "Error loading image /home/student/projects/CTRvision/data/fashion-product-images-small/images/39401.jpg: [Errno 2] No such file or directory: '/home/student/projects/CTRvision/data/fashion-product-images-small/images/39401.jpg'\n",
      "Error loading image /home/student/projects/CTRvision/data/fashion-product-images-small/images/39425.jpg: [Errno 2] No such file or directory: '/home/student/projects/CTRvision/data/fashion-product-images-small/images/39425.jpg'\n",
      "Error loading image /home/student/projects/CTRvision/data/fashion-product-images-small/images/12347.jpg: [Errno 2] No such file or directory: '/home/student/projects/CTRvision/data/fashion-product-images-small/images/12347.jpg'\n",
      "Error loading image /home/student/projects/CTRvision/data/fashion-product-images-small/images/39410.jpg: [Errno 2] No such file or directory: '/home/student/projects/CTRvision/data/fashion-product-images-small/images/39410.jpg'\n",
      "Error loading image /home/student/projects/CTRvision/data/fashion-product-images-small/images/39403.jpg: [Errno 2] No such file or directory: '/home/student/projects/CTRvision/data/fashion-product-images-small/images/39403.jpg'\n"
     ]
    },
    {
     "data": {
      "text/html": [
       "<pre style=\"white-space:pre;overflow-x:auto;line-height:normal;font-family:Menlo,'DejaVu Sans Mono',consolas,'Courier New',monospace\"><span style=\"color: #7fbfbf; text-decoration-color: #7fbfbf\">21:12:54-938869 </span><span style=\"color: #000080; text-decoration-color: #000080\">INFO    </span> Epoch <span style=\"color: #008080; text-decoration-color: #008080; font-weight: bold\">5</span>/<span style=\"color: #008080; text-decoration-color: #008080; font-weight: bold\">5</span>, Train Loss: <span style=\"color: #008080; text-decoration-color: #008080; font-weight: bold\">0.1417</span>, Val Loss: nan, Val Accuracy: <span style=\"color: #008080; text-decoration-color: #008080; font-weight: bold\">75.73</span>%                        \n",
       "</pre>\n"
      ],
      "text/plain": [
       "\u001b[2;36m21:12:54-938869\u001b[0m\u001b[2;36m \u001b[0m\u001b[34mINFO    \u001b[0m Epoch \u001b[1;36m5\u001b[0m/\u001b[1;36m5\u001b[0m, Train Loss: \u001b[1;36m0.1417\u001b[0m, Val Loss: nan, Val Accuracy: \u001b[1;36m75.73\u001b[0m%                        \n"
      ]
     },
     "metadata": {},
     "output_type": "display_data"
    },
    {
     "data": {
      "text/html": [
       "<pre style=\"white-space:pre;overflow-x:auto;line-height:normal;font-family:Menlo,'DejaVu Sans Mono',consolas,'Courier New',monospace\"><span style=\"color: #7fbfbf; text-decoration-color: #7fbfbf\">21:12:55-874619 </span><span style=\"color: #000080; text-decoration-color: #000080\">INFO    </span> Model saved to weights/combined_model.pth                                                 \n",
       "</pre>\n"
      ],
      "text/plain": [
       "\u001b[2;36m21:12:55-874619\u001b[0m\u001b[2;36m \u001b[0m\u001b[34mINFO    \u001b[0m Model saved to weights/combined_model.pth                                                 \n"
      ]
     },
     "metadata": {},
     "output_type": "display_data"
    },
    {
     "data": {
      "text/html": [
       "<pre style=\"white-space:pre;overflow-x:auto;line-height:normal;font-family:Menlo,'DejaVu Sans Mono',consolas,'Courier New',monospace\"><span style=\"color: #7fbfbf; text-decoration-color: #7fbfbf\">21:12:55-877309 </span><span style=\"color: #000080; text-decoration-color: #000080\">INFO    </span> Metrics saved to metrics/combined_metrics.pt                                              \n",
       "</pre>\n"
      ],
      "text/plain": [
       "\u001b[2;36m21:12:55-877309\u001b[0m\u001b[2;36m \u001b[0m\u001b[34mINFO    \u001b[0m Metrics saved to metrics/combined_metrics.pt                                              \n"
      ]
     },
     "metadata": {},
     "output_type": "display_data"
    },
    {
     "name": "stdout",
     "output_type": "stream",
     "text": [
      "\u001b[36m Шаг 3.3: Визуализация результатов\u001b[0m\n"
     ]
    },
    {
     "data": {
      "text/html": [
       "<pre style=\"white-space:pre;overflow-x:auto;line-height:normal;font-family:Menlo,'DejaVu Sans Mono',consolas,'Courier New',monospace\"><span style=\"color: #7fbfbf; text-decoration-color: #7fbfbf\">21:13:45-142050 </span><span style=\"color: #000080; text-decoration-color: #000080\">INFO    </span> Plots and metrics saved to plots                                                          \n",
       "</pre>\n"
      ],
      "text/plain": [
       "\u001b[2;36m21:13:45-142050\u001b[0m\u001b[2;36m \u001b[0m\u001b[34mINFO    \u001b[0m Plots and metrics saved to plots                                                          \n"
      ]
     },
     "metadata": {},
     "output_type": "display_data"
    },
    {
     "data": {
      "text/html": [
       "<pre style=\"white-space:pre;overflow-x:auto;line-height:normal;font-family:Menlo,'DejaVu Sans Mono',consolas,'Courier New',monospace\"><span style=\"color: #7fbfbf; text-decoration-color: #7fbfbf\">21:13:45-145437 </span><span style=\"color: #000080; text-decoration-color: #000080\">INFO    </span> Final Validation Accuracy: <span style=\"color: #008080; text-decoration-color: #008080; font-weight: bold\">75.73</span>%                                                         \n",
       "</pre>\n"
      ],
      "text/plain": [
       "\u001b[2;36m21:13:45-145437\u001b[0m\u001b[2;36m \u001b[0m\u001b[34mINFO    \u001b[0m Final Validation Accuracy: \u001b[1;36m75.73\u001b[0m%                                                         \n"
      ]
     },
     "metadata": {},
     "output_type": "display_data"
    },
    {
     "data": {
      "text/html": [
       "<pre style=\"white-space:pre;overflow-x:auto;line-height:normal;font-family:Menlo,'DejaVu Sans Mono',consolas,'Courier New',monospace\"><span style=\"color: #7fbfbf; text-decoration-color: #7fbfbf\">21:13:45-150266 </span><span style=\"color: #000080; text-decoration-color: #000080\">INFO    </span> ROC AUC: <span style=\"color: #008080; text-decoration-color: #008080; font-weight: bold\">0.5167</span>                                                                           \n",
       "</pre>\n"
      ],
      "text/plain": [
       "\u001b[2;36m21:13:45-150266\u001b[0m\u001b[2;36m \u001b[0m\u001b[34mINFO    \u001b[0m ROC AUC: \u001b[1;36m0.5167\u001b[0m                                                                           \n"
      ]
     },
     "metadata": {},
     "output_type": "display_data"
    },
    {
     "name": "stdout",
     "output_type": "stream",
     "text": [
      "\n",
      "\u001b[32m✅ Эксперимент 3 завершен!\u001b[0m\n"
     ]
    }
   ],
   "source": [
    "print_step(\"3.2\", \"Запуск обучения комбинированной модели\", BLUE)\n",
    "combined_model, combined_metrics = train_model(combined_config)\n",
    "print_step(\"3.3\", \"Визуализация результатов\", CYAN)\n",
    "plot_results(combined_config)\n",
    "print(f\"\\n{GREEN}✅ Эксперимент 3 завершен!{RESET}\")"
   ]
  },
  {
   "cell_type": "markdown",
   "id": "comparison-section",
   "metadata": {},
   "source": [
    "# Сравнение результатов всех экспериментов\n",
    "\n",
    "## Итоговое сравнение моделей\n",
    "\n",
    "Проанализируем производительность всех трех подходов и определим, какой из них наиболее эффективен для предсказания CTR продуктов."
   ]
  },
  {
   "cell_type": "code",
   "execution_count": 12,
   "id": "final-comparison",
   "metadata": {},
   "outputs": [
    {
     "name": "stdout",
     "output_type": "stream",
     "text": [
      "\n",
      "\u001b[36m============================================================\u001b[0m\n",
      "\u001b[36m              ИТОГОВОЕ СРАВНЕНИЕ ЭКСПЕРИМЕНТОВ              \u001b[0m\n",
      "\u001b[36m============================================================\u001b[0m\n",
      "\n",
      "\u001b[33m Сводная таблица результатов:\u001b[0m\n",
      "Модель               Лучшая точность (%)  Финальная точность (%)    Финальные потери\n",
      "-------------------------------------------------------------------------------------\n"
     ]
    }
   ],
   "source": [
    "print_header(\"ИТОГОВОЕ СРАВНЕНИЕ ЭКСПЕРИМЕНТОВ\", CYAN)\n",
    "\n",
    "experiment_types = [\"image\", \"tabular\", \"combined\"]\n",
    "results = {}\n",
    "\n",
    "for exp_type in experiment_types:\n",
    "    metrics_path = os.path.join(base_config['paths']['metrics_path'], exp_type, f\"{exp_type}_metrics.pt\")\n",
    "    if os.path.exists(metrics_path):\n",
    "        metrics = torch.load(metrics_path)\n",
    "        results[exp_type] = {\n",
    "            'best_accuracy': max(metrics['val_accuracies']),\n",
    "            'final_accuracy': metrics['val_accuracies'][-1],\n",
    "            'final_loss': metrics['val_losses'][-1],\n",
    "            'config': metrics['config']\n",
    "        }\n",
    "\n",
    "print(f\"{YELLOW} Сводная таблица результатов:{RESET}\")\n",
    "print(f\"{'Модель':<20} {'Лучшая точность (%)':<20} {'Финальная точность (%)':<25} {'Финальные потери':<15}\")\n",
    "print(\"-\" * 85)\n",
    "\n",
    "for model_name, metrics in results.items():\n",
    "    print(f\"{model_name:<20} {metrics['best_accuracy']:<20.2f} {metrics['final_accuracy']:<25.2f} {metrics['final_loss']:<15.4f}\")\n",
    "\n",
    "if results:\n",
    "    best_model = max(results.items(), key=lambda x: x[1]['best_accuracy'])\n",
    "    print(f\"\\n{GREEN} Лучшая модель: {best_model[0]} (лучшая точность: {best_model[1]['best_accuracy']:.2f}%){RESET}\")"
   ]
  },
  {
   "cell_type": "code",
   "execution_count": 13,
   "id": "162f4584-f495-4297-aa56-ed5fefecf0de",
   "metadata": {},
   "outputs": [
    {
     "name": "stdout",
     "output_type": "stream",
     "text": [
      "\u001b[36m Шаг 4.1: Сравнительная визуализация\u001b[0m\n"
     ]
    },
    {
     "data": {
      "image/png": "[encoded data removed]",
      "text/plain": [
       "<Figure size 2000x1200 with 4 Axes>"
      ]
     },
     "metadata": {},
     "output_type": "display_data"
    },
    {
     "name": "stdout",
     "output_type": "stream",
     "text": [
      "\n",
      "\u001b[32m✅ Сравнение экспериментов завершено!\u001b[0m\n"
     ]
    }
   ],
   "source": [
    "print_step(\"4.1\", \"Сравнительная визуализация\", CYAN)\n",
    "\n",
    "fig, ((ax1, ax2), (ax3, ax4)) = plt.subplots(2, 2, figsize=(20, 12))\n",
    "\n",
    "colors = {'image': 'blue', 'tabular': 'green', 'combined': 'purple'}\n",
    "for exp_type in experiment_types:\n",
    "    if exp_type in results:\n",
    "        metrics_path = os.path.join(base_config['paths']['metrics_path'], exp_type, f\"{exp_type}_metrics.pt\")\n",
    "        metrics = torch.load(metrics_path)\n",
    "        epochs = range(1, len(metrics['val_accuracies']) + 1)\n",
    "        ax1.plot(epochs, metrics['val_accuracies'], label=exp_type, color=colors[exp_type], linewidth=2, marker='o')\n",
    "\n",
    "ax1.set_title(' Сравнение точности валидации', fontsize=16, fontweight='bold')\n",
    "ax1.set_xlabel('Эпоха')\n",
    "ax1.set_ylabel('Точность (%)')\n",
    "ax1.legend()\n",
    "ax1.grid(True, alpha=0.3)\n",
    "\n",
    "for exp_type in experiment_types:\n",
    "    if exp_type in results:\n",
    "        metrics_path = os.path.join(base_config['paths']['metrics_path'], exp_type, f\"{exp_type}_metrics.pt\")\n",
    "        metrics = torch.load(metrics_path)\n",
    "        epochs = range(1, len(metrics['train_losses']) + 1)\n",
    "        ax2.plot(epochs, metrics['train_losses'], label=exp_type, color=colors[exp_type], linewidth=2, marker='o')\n",
    "\n",
    "ax2.set_title(' Сравнение потерь при обучении', fontsize=16, fontweight='bold')\n",
    "ax2.set_xlabel('Эпоха')\n",
    "ax2.set_ylabel('Потери')\n",
    "ax2.legend()\n",
    "ax2.grid(True, alpha=0.3)\n",
    "\n",
    "models = list(results.keys())\n",
    "accuracies = [results[model]['best_accuracy'] for model in models]\n",
    "colors_list = [colors[model] for model in models]\n",
    "\n",
    "bars = ax3.bar(models, accuracies, color=colors_list, alpha=0.7, edgecolor='black', linewidth=1)\n",
    "ax3.set_title(' Лучшая точность по моделям', fontsize=16, fontweight='bold')\n",
    "ax3.set_ylabel('Точность (%)')\n",
    "ax3.set_ylim(0, 100)\n",
    "\n",
    "for bar, accuracy in zip(bars, accuracies):\n",
    "    height = bar.get_height()\n",
    "    ax3.text(bar.get_x() + bar.get_width()/2., height + 0.5, f'{accuracy:.1f}%',\n",
    "             ha='center', va='bottom', fontweight='bold')\n",
    "\n",
    "final_losses = [results[model]['final_loss'] for model in models]\n",
    "bars2 = ax4.bar(models, final_losses, color=colors_list, alpha=0.7, edgecolor='black', linewidth=1)\n",
    "ax4.set_title(' Финальные потери по моделям', fontsize=16, fontweight='bold')\n",
    "ax4.set_ylabel('Потери')\n",
    "\n",
    "for bar, loss in zip(bars2, final_losses):\n",
    "    height = bar.get_height()\n",
    "    ax4.text(bar.get_x() + bar.get_width()/2., height + height*0.01, f'{loss:.4f}',\n",
    "             ha='center', va='bottom', fontweight='bold')\n",
    "\n",
    "plt.tight_layout()\n",
    "plt.savefig(os.path.join(base_config['paths']['plots_path'], 'comparison_results.png'))\n",
    "plt.show()\n",
    "\n",
    "print(f\"\\n{GREEN} Сравнение экспериментов завершено!{RESET}\")"
   ]
  },
  {
   "cell_type": "markdown",
   "id": "analysis-section",
   "metadata": {},
   "source": []
  }
 ],
 "metadata": {
  "kernelspec": {
   "display_name": "Python 3 (ipykernel)",
   "language": "python",
   "name": "python3"
  },
  "language_info": {
   "codemirror_mode": {
    "name": "ipython",
    "version": 3
   },
   "file_extension": ".py",
   "mimetype": "text/x-python",
   "name": "python",
   "nbconvert_exporter": "python",
   "pygments_lexer": "ipython3",
   "version": "3.10.6"
  }
 },
 "nbformat": 4,
 "nbformat_minor": 5
}
